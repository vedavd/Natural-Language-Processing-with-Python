{
  "nbformat": 4,
  "nbformat_minor": 0,
  "metadata": {
    "colab": {
      "name": "AZ-5-Text Classification.ipynb",
      "provenance": [],
      "collapsed_sections": []
    },
    "kernelspec": {
      "name": "python3",
      "display_name": "Python 3"
    }
  },
  "cells": [
    {
      "cell_type": "code",
      "metadata": {
        "id": "mAKwc_EE7AVp",
        "colab_type": "code",
        "colab": {}
      },
      "source": [
        "import numpy as np\n",
        "import pandas as pd"
      ],
      "execution_count": 0,
      "outputs": []
    },
    {
      "cell_type": "code",
      "metadata": {
        "id": "Vo1xSX4qLKAZ",
        "colab_type": "code",
        "colab": {}
      },
      "source": [
        "df=pd.read_csv('/content/smsspamcollection.tsv',sep='\\t')"
      ],
      "execution_count": 0,
      "outputs": []
    },
    {
      "cell_type": "code",
      "metadata": {
        "id": "7clhjF-ELwDM",
        "colab_type": "code",
        "outputId": "97abc224-36fd-4a97-d9f3-4ec74b834122",
        "colab": {
          "base_uri": "https://localhost:8080/",
          "height": 197
        }
      },
      "source": [
        "df.head()"
      ],
      "execution_count": 0,
      "outputs": [
        {
          "output_type": "execute_result",
          "data": {
            "text/html": [
              "<div>\n",
              "<style scoped>\n",
              "    .dataframe tbody tr th:only-of-type {\n",
              "        vertical-align: middle;\n",
              "    }\n",
              "\n",
              "    .dataframe tbody tr th {\n",
              "        vertical-align: top;\n",
              "    }\n",
              "\n",
              "    .dataframe thead th {\n",
              "        text-align: right;\n",
              "    }\n",
              "</style>\n",
              "<table border=\"1\" class=\"dataframe\">\n",
              "  <thead>\n",
              "    <tr style=\"text-align: right;\">\n",
              "      <th></th>\n",
              "      <th>label</th>\n",
              "      <th>message</th>\n",
              "      <th>length</th>\n",
              "      <th>punct</th>\n",
              "    </tr>\n",
              "  </thead>\n",
              "  <tbody>\n",
              "    <tr>\n",
              "      <th>0</th>\n",
              "      <td>ham</td>\n",
              "      <td>Go until jurong point, crazy.. Available only ...</td>\n",
              "      <td>111</td>\n",
              "      <td>9</td>\n",
              "    </tr>\n",
              "    <tr>\n",
              "      <th>1</th>\n",
              "      <td>ham</td>\n",
              "      <td>Ok lar... Joking wif u oni...</td>\n",
              "      <td>29</td>\n",
              "      <td>6</td>\n",
              "    </tr>\n",
              "    <tr>\n",
              "      <th>2</th>\n",
              "      <td>spam</td>\n",
              "      <td>Free entry in 2 a wkly comp to win FA Cup fina...</td>\n",
              "      <td>155</td>\n",
              "      <td>6</td>\n",
              "    </tr>\n",
              "    <tr>\n",
              "      <th>3</th>\n",
              "      <td>ham</td>\n",
              "      <td>U dun say so early hor... U c already then say...</td>\n",
              "      <td>49</td>\n",
              "      <td>6</td>\n",
              "    </tr>\n",
              "    <tr>\n",
              "      <th>4</th>\n",
              "      <td>ham</td>\n",
              "      <td>Nah I don't think he goes to usf, he lives aro...</td>\n",
              "      <td>61</td>\n",
              "      <td>2</td>\n",
              "    </tr>\n",
              "  </tbody>\n",
              "</table>\n",
              "</div>"
            ],
            "text/plain": [
              "  label                                            message  length  punct\n",
              "0   ham  Go until jurong point, crazy.. Available only ...     111      9\n",
              "1   ham                      Ok lar... Joking wif u oni...      29      6\n",
              "2  spam  Free entry in 2 a wkly comp to win FA Cup fina...     155      6\n",
              "3   ham  U dun say so early hor... U c already then say...      49      6\n",
              "4   ham  Nah I don't think he goes to usf, he lives aro...      61      2"
            ]
          },
          "metadata": {
            "tags": []
          },
          "execution_count": 7
        }
      ]
    },
    {
      "cell_type": "code",
      "metadata": {
        "id": "c0c0uWvVO3Xv",
        "colab_type": "code",
        "outputId": "6fec8ae4-91d6-4c4e-e2f6-d7604be4b5b7",
        "colab": {
          "base_uri": "https://localhost:8080/",
          "height": 406
        }
      },
      "source": [
        "#Check if there are any missing values\n",
        "df.isnull()"
      ],
      "execution_count": 0,
      "outputs": [
        {
          "output_type": "execute_result",
          "data": {
            "text/html": [
              "<div>\n",
              "<style scoped>\n",
              "    .dataframe tbody tr th:only-of-type {\n",
              "        vertical-align: middle;\n",
              "    }\n",
              "\n",
              "    .dataframe tbody tr th {\n",
              "        vertical-align: top;\n",
              "    }\n",
              "\n",
              "    .dataframe thead th {\n",
              "        text-align: right;\n",
              "    }\n",
              "</style>\n",
              "<table border=\"1\" class=\"dataframe\">\n",
              "  <thead>\n",
              "    <tr style=\"text-align: right;\">\n",
              "      <th></th>\n",
              "      <th>label</th>\n",
              "      <th>message</th>\n",
              "      <th>length</th>\n",
              "      <th>punct</th>\n",
              "    </tr>\n",
              "  </thead>\n",
              "  <tbody>\n",
              "    <tr>\n",
              "      <th>0</th>\n",
              "      <td>False</td>\n",
              "      <td>False</td>\n",
              "      <td>False</td>\n",
              "      <td>False</td>\n",
              "    </tr>\n",
              "    <tr>\n",
              "      <th>1</th>\n",
              "      <td>False</td>\n",
              "      <td>False</td>\n",
              "      <td>False</td>\n",
              "      <td>False</td>\n",
              "    </tr>\n",
              "    <tr>\n",
              "      <th>2</th>\n",
              "      <td>False</td>\n",
              "      <td>False</td>\n",
              "      <td>False</td>\n",
              "      <td>False</td>\n",
              "    </tr>\n",
              "    <tr>\n",
              "      <th>3</th>\n",
              "      <td>False</td>\n",
              "      <td>False</td>\n",
              "      <td>False</td>\n",
              "      <td>False</td>\n",
              "    </tr>\n",
              "    <tr>\n",
              "      <th>4</th>\n",
              "      <td>False</td>\n",
              "      <td>False</td>\n",
              "      <td>False</td>\n",
              "      <td>False</td>\n",
              "    </tr>\n",
              "    <tr>\n",
              "      <th>...</th>\n",
              "      <td>...</td>\n",
              "      <td>...</td>\n",
              "      <td>...</td>\n",
              "      <td>...</td>\n",
              "    </tr>\n",
              "    <tr>\n",
              "      <th>5567</th>\n",
              "      <td>False</td>\n",
              "      <td>False</td>\n",
              "      <td>False</td>\n",
              "      <td>False</td>\n",
              "    </tr>\n",
              "    <tr>\n",
              "      <th>5568</th>\n",
              "      <td>False</td>\n",
              "      <td>False</td>\n",
              "      <td>False</td>\n",
              "      <td>False</td>\n",
              "    </tr>\n",
              "    <tr>\n",
              "      <th>5569</th>\n",
              "      <td>False</td>\n",
              "      <td>False</td>\n",
              "      <td>False</td>\n",
              "      <td>False</td>\n",
              "    </tr>\n",
              "    <tr>\n",
              "      <th>5570</th>\n",
              "      <td>False</td>\n",
              "      <td>False</td>\n",
              "      <td>False</td>\n",
              "      <td>False</td>\n",
              "    </tr>\n",
              "    <tr>\n",
              "      <th>5571</th>\n",
              "      <td>False</td>\n",
              "      <td>False</td>\n",
              "      <td>False</td>\n",
              "      <td>False</td>\n",
              "    </tr>\n",
              "  </tbody>\n",
              "</table>\n",
              "<p>5572 rows × 4 columns</p>\n",
              "</div>"
            ],
            "text/plain": [
              "      label  message  length  punct\n",
              "0     False    False   False  False\n",
              "1     False    False   False  False\n",
              "2     False    False   False  False\n",
              "3     False    False   False  False\n",
              "4     False    False   False  False\n",
              "...     ...      ...     ...    ...\n",
              "5567  False    False   False  False\n",
              "5568  False    False   False  False\n",
              "5569  False    False   False  False\n",
              "5570  False    False   False  False\n",
              "5571  False    False   False  False\n",
              "\n",
              "[5572 rows x 4 columns]"
            ]
          },
          "metadata": {
            "tags": []
          },
          "execution_count": 8
        }
      ]
    },
    {
      "cell_type": "code",
      "metadata": {
        "id": "uzMdpW87PeW3",
        "colab_type": "code",
        "outputId": "76a6ce58-e93b-47ef-f927-8181b7e5360d",
        "colab": {
          "base_uri": "https://localhost:8080/",
          "height": 105
        }
      },
      "source": [
        "#Count if there are any missing values\n",
        "df.isnull().sum()\n",
        "#So, there are no missing values"
      ],
      "execution_count": 0,
      "outputs": [
        {
          "output_type": "execute_result",
          "data": {
            "text/plain": [
              "label      0\n",
              "message    0\n",
              "length     0\n",
              "punct      0\n",
              "dtype: int64"
            ]
          },
          "metadata": {
            "tags": []
          },
          "execution_count": 9
        }
      ]
    },
    {
      "cell_type": "code",
      "metadata": {
        "id": "s32wdYIcPkKY",
        "colab_type": "code",
        "outputId": "29d3b708-0869-4392-a53c-e48326d2fd36",
        "colab": {
          "base_uri": "https://localhost:8080/",
          "height": 34
        }
      },
      "source": [
        "#Check the number of messages present in the file\n",
        "#This can beobtained by calculating the length of the dataframe\n",
        "len(df)"
      ],
      "execution_count": 0,
      "outputs": [
        {
          "output_type": "execute_result",
          "data": {
            "text/plain": [
              "5572"
            ]
          },
          "metadata": {
            "tags": []
          },
          "execution_count": 10
        }
      ]
    },
    {
      "cell_type": "code",
      "metadata": {
        "id": "3h2rTj4hQSjC",
        "colab_type": "code",
        "outputId": "22d9f752-9a8c-4330-da2b-b854849a46d9",
        "colab": {
          "base_uri": "https://localhost:8080/",
          "height": 230
        }
      },
      "source": [
        "#Let us check the label column\n",
        "df['label']"
      ],
      "execution_count": 0,
      "outputs": [
        {
          "output_type": "execute_result",
          "data": {
            "text/plain": [
              "0        ham\n",
              "1        ham\n",
              "2       spam\n",
              "3        ham\n",
              "4        ham\n",
              "        ... \n",
              "5567    spam\n",
              "5568     ham\n",
              "5569     ham\n",
              "5570     ham\n",
              "5571     ham\n",
              "Name: label, Length: 5572, dtype: object"
            ]
          },
          "metadata": {
            "tags": []
          },
          "execution_count": 11
        }
      ]
    },
    {
      "cell_type": "code",
      "metadata": {
        "id": "gXI0mbhtRetC",
        "colab_type": "code",
        "outputId": "a1a53c5d-f7fc-4616-cce8-9e2cb59724ae",
        "colab": {
          "base_uri": "https://localhost:8080/",
          "height": 34
        }
      },
      "source": [
        "#Looking at the output it is conatining mostly HAM and SPAM as values\n",
        "#Now let us check the unique values presentin the label column\n",
        "df['label'].unique()"
      ],
      "execution_count": 0,
      "outputs": [
        {
          "output_type": "execute_result",
          "data": {
            "text/plain": [
              "array(['ham', 'spam'], dtype=object)"
            ]
          },
          "metadata": {
            "tags": []
          },
          "execution_count": 12
        }
      ]
    },
    {
      "cell_type": "code",
      "metadata": {
        "id": "seoAB2WVRtj3",
        "colab_type": "code",
        "outputId": "e3f24ad9-12f9-41dc-e96b-12d65d8b2d76",
        "colab": {
          "base_uri": "https://localhost:8080/",
          "height": 70
        }
      },
      "source": [
        "#Let us now calculate the number  of SPAM,HAM present in the label column\n",
        "df['label'].value_counts()"
      ],
      "execution_count": 0,
      "outputs": [
        {
          "output_type": "execute_result",
          "data": {
            "text/plain": [
              "ham     4825\n",
              "spam     747\n",
              "Name: label, dtype: int64"
            ]
          },
          "metadata": {
            "tags": []
          },
          "execution_count": 14
        }
      ]
    },
    {
      "cell_type": "code",
      "metadata": {
        "id": "QMwll96RR2yC",
        "colab_type": "code",
        "colab": {}
      },
      "source": [
        "#We are going to create a model which will identify if a message is SPAM or HAM based on the features\n",
        "#length of the message and punct of the message\n",
        "#Now let us try to plot the distribution of the length of all the messages present in the text file\n",
        "import matplotlib.pyplot as plt"
      ],
      "execution_count": 0,
      "outputs": []
    },
    {
      "cell_type": "code",
      "metadata": {
        "id": "zqTsDqgLStCM",
        "colab_type": "code",
        "colab": {}
      },
      "source": [
        "%matplotlib inline"
      ],
      "execution_count": 0,
      "outputs": []
    },
    {
      "cell_type": "code",
      "metadata": {
        "id": "ucP9bAr3SxHn",
        "colab_type": "code",
        "outputId": "123fc542-53e6-446f-e99b-4f29b62824d4",
        "colab": {
          "base_uri": "https://localhost:8080/",
          "height": 282
        }
      },
      "source": [
        "plt.xscale('log')\n",
        "binslen=np.arange(0,200)\n",
        "plt.hist(df[df['label']==\"ham\"]['length'],bins=binslen,alpha=0.8)\n",
        "plt.hist(df[df['label']=='spam']['length'],bins=bins,alpha=0.8)\n",
        "plt.xlabel(\"Length of the message\")\n",
        "plt.ylabel(\"Message count\")\n",
        "plt.legend(('ham','spam'))\n",
        "plt.show()\n",
        "#We observe Spam messages are lengthy"
      ],
      "execution_count": 0,
      "outputs": [
        {
          "output_type": "display_data",
          "data": {
            "image/png": "[encoded data removed]",
            "text/plain": [
              "<Figure size 432x288 with 1 Axes>"
            ]
          },
          "metadata": {
            "tags": []
          }
        }
      ]
    },
    {
      "cell_type": "code",
      "metadata": {
        "id": "60061c-pWfrl",
        "colab_type": "code",
        "outputId": "e8b13c13-cf0c-4802-d405-aa4bff0ff2f8",
        "colab": {
          "base_uri": "https://localhost:8080/",
          "height": 282
        }
      },
      "source": [
        "plt.xscale('log')\n",
        "binslen=1.5**(np.arange(0,15))\n",
        "plt.hist(df[df['label']==\"ham\"]['punct'],bins=binslen,alpha=0.8)\n",
        "plt.hist(df[df['label']=='spam']['punct'],bins=bins,alpha=0.8)\n",
        "plt.xlabel(\"Number of Punctuation\")\n",
        "plt.ylabel(\"Message Count\")\n",
        "plt.legend(('ham','spam'))\n",
        "plt.show()\n"
      ],
      "execution_count": 0,
      "outputs": [
        {
          "output_type": "display_data",
          "data": {
            "image/png": "[encoded data removed]",
            "text/plain": [
              "<Figure size 432x288 with 1 Axes>"
            ]
          },
          "metadata": {
            "tags": []
          }
        }
      ]
    },
    {
      "cell_type": "code",
      "metadata": {
        "id": "Rw3Q8v59W3yV",
        "colab_type": "code",
        "colab": {}
      },
      "source": [
        "#Create Training and Test Data\n",
        "from sklearn.model_selection import train_test_split"
      ],
      "execution_count": 0,
      "outputs": []
    },
    {
      "cell_type": "code",
      "metadata": {
        "id": "Mw8B4KjXYv6-",
        "colab_type": "code",
        "colab": {}
      },
      "source": [
        "#X is feature data i.e. independent variable which will be length and punct column\n",
        "X=df[['length','punct']]\n",
        "#y is our label data i.e dependent varibale which will be label column\n",
        "y=df['label']"
      ],
      "execution_count": 0,
      "outputs": []
    },
    {
      "cell_type": "code",
      "metadata": {
        "id": "woyRHHZ0Zv0e",
        "colab_type": "code",
        "colab": {}
      },
      "source": [
        "#Let us view the X data"
      ],
      "execution_count": 0,
      "outputs": []
    },
    {
      "cell_type": "code",
      "metadata": {
        "id": "Lcjwz6gXagp1",
        "colab_type": "code",
        "outputId": "59999f7c-452e-4cee-889c-ea8438248767",
        "colab": {
          "base_uri": "https://localhost:8080/",
          "height": 406
        }
      },
      "source": [
        "X"
      ],
      "execution_count": 0,
      "outputs": [
        {
          "output_type": "execute_result",
          "data": {
            "text/html": [
              "<div>\n",
              "<style scoped>\n",
              "    .dataframe tbody tr th:only-of-type {\n",
              "        vertical-align: middle;\n",
              "    }\n",
              "\n",
              "    .dataframe tbody tr th {\n",
              "        vertical-align: top;\n",
              "    }\n",
              "\n",
              "    .dataframe thead th {\n",
              "        text-align: right;\n",
              "    }\n",
              "</style>\n",
              "<table border=\"1\" class=\"dataframe\">\n",
              "  <thead>\n",
              "    <tr style=\"text-align: right;\">\n",
              "      <th></th>\n",
              "      <th>length</th>\n",
              "      <th>punct</th>\n",
              "    </tr>\n",
              "  </thead>\n",
              "  <tbody>\n",
              "    <tr>\n",
              "      <th>0</th>\n",
              "      <td>111</td>\n",
              "      <td>9</td>\n",
              "    </tr>\n",
              "    <tr>\n",
              "      <th>1</th>\n",
              "      <td>29</td>\n",
              "      <td>6</td>\n",
              "    </tr>\n",
              "    <tr>\n",
              "      <th>2</th>\n",
              "      <td>155</td>\n",
              "      <td>6</td>\n",
              "    </tr>\n",
              "    <tr>\n",
              "      <th>3</th>\n",
              "      <td>49</td>\n",
              "      <td>6</td>\n",
              "    </tr>\n",
              "    <tr>\n",
              "      <th>4</th>\n",
              "      <td>61</td>\n",
              "      <td>2</td>\n",
              "    </tr>\n",
              "    <tr>\n",
              "      <th>...</th>\n",
              "      <td>...</td>\n",
              "      <td>...</td>\n",
              "    </tr>\n",
              "    <tr>\n",
              "      <th>5567</th>\n",
              "      <td>160</td>\n",
              "      <td>8</td>\n",
              "    </tr>\n",
              "    <tr>\n",
              "      <th>5568</th>\n",
              "      <td>36</td>\n",
              "      <td>1</td>\n",
              "    </tr>\n",
              "    <tr>\n",
              "      <th>5569</th>\n",
              "      <td>57</td>\n",
              "      <td>7</td>\n",
              "    </tr>\n",
              "    <tr>\n",
              "      <th>5570</th>\n",
              "      <td>125</td>\n",
              "      <td>1</td>\n",
              "    </tr>\n",
              "    <tr>\n",
              "      <th>5571</th>\n",
              "      <td>26</td>\n",
              "      <td>1</td>\n",
              "    </tr>\n",
              "  </tbody>\n",
              "</table>\n",
              "<p>5572 rows × 2 columns</p>\n",
              "</div>"
            ],
            "text/plain": [
              "      length  punct\n",
              "0        111      9\n",
              "1         29      6\n",
              "2        155      6\n",
              "3         49      6\n",
              "4         61      2\n",
              "...      ...    ...\n",
              "5567     160      8\n",
              "5568      36      1\n",
              "5569      57      7\n",
              "5570     125      1\n",
              "5571      26      1\n",
              "\n",
              "[5572 rows x 2 columns]"
            ]
          },
          "metadata": {
            "tags": []
          },
          "execution_count": 43
        }
      ]
    },
    {
      "cell_type": "code",
      "metadata": {
        "id": "pa5rWB9zag1_",
        "colab_type": "code",
        "outputId": "2947f282-f9f9-49a4-9e5f-7cd2edee22a4",
        "colab": {
          "base_uri": "https://localhost:8080/",
          "height": 230
        }
      },
      "source": [
        "#Let us view the y data\n",
        "y"
      ],
      "execution_count": 0,
      "outputs": [
        {
          "output_type": "execute_result",
          "data": {
            "text/plain": [
              "0        ham\n",
              "1        ham\n",
              "2       spam\n",
              "3        ham\n",
              "4        ham\n",
              "        ... \n",
              "5567    spam\n",
              "5568     ham\n",
              "5569     ham\n",
              "5570     ham\n",
              "5571     ham\n",
              "Name: label, Length: 5572, dtype: object"
            ]
          },
          "metadata": {
            "tags": []
          },
          "execution_count": 44
        }
      ]
    },
    {
      "cell_type": "code",
      "metadata": {
        "id": "arMFMPDtajfC",
        "colab_type": "code",
        "colab": {}
      },
      "source": [
        "#The order of X_train,X_test,y_train,y_test is important\n",
        "#X_train,y_train,X_test,y_test=train_test_split(X,y,test_size=0.3,random_state=42)\n",
        "X_train,X_test,y_train,y_test=train_test_split(X,y,test_size=0.3,random_state=42)"
      ],
      "execution_count": 0,
      "outputs": []
    },
    {
      "cell_type": "code",
      "metadata": {
        "id": "ILUQc_4hbJ-L",
        "colab_type": "code",
        "outputId": "b16bafd6-6978-45ec-be71-c7678d3e60aa",
        "colab": {
          "base_uri": "https://localhost:8080/",
          "height": 34
        }
      },
      "source": [
        "#Let us check the length of X Training Data\n",
        "len(X_train)"
      ],
      "execution_count": 0,
      "outputs": [
        {
          "output_type": "execute_result",
          "data": {
            "text/plain": [
              "3900"
            ]
          },
          "metadata": {
            "tags": []
          },
          "execution_count": 55
        }
      ]
    },
    {
      "cell_type": "code",
      "metadata": {
        "id": "VxoojqgtbzEG",
        "colab_type": "code",
        "outputId": "8ef2c7a7-6792-45ba-fdcc-777ee1f0f8b5",
        "colab": {
          "base_uri": "https://localhost:8080/",
          "height": 34
        }
      },
      "source": [
        "#Let us check the length of y Training Data\n",
        "len(y_train)"
      ],
      "execution_count": 0,
      "outputs": [
        {
          "output_type": "execute_result",
          "data": {
            "text/plain": [
              "3900"
            ]
          },
          "metadata": {
            "tags": []
          },
          "execution_count": 56
        }
      ]
    },
    {
      "cell_type": "code",
      "metadata": {
        "id": "KVgRdowlb4Tp",
        "colab_type": "code",
        "outputId": "625ddca4-8104-4fd0-b180-a29817c596ef",
        "colab": {
          "base_uri": "https://localhost:8080/",
          "height": 406
        }
      },
      "source": [
        "#View X_train data\n",
        "X_train"
      ],
      "execution_count": 0,
      "outputs": [
        {
          "output_type": "execute_result",
          "data": {
            "text/html": [
              "<div>\n",
              "<style scoped>\n",
              "    .dataframe tbody tr th:only-of-type {\n",
              "        vertical-align: middle;\n",
              "    }\n",
              "\n",
              "    .dataframe tbody tr th {\n",
              "        vertical-align: top;\n",
              "    }\n",
              "\n",
              "    .dataframe thead th {\n",
              "        text-align: right;\n",
              "    }\n",
              "</style>\n",
              "<table border=\"1\" class=\"dataframe\">\n",
              "  <thead>\n",
              "    <tr style=\"text-align: right;\">\n",
              "      <th></th>\n",
              "      <th>length</th>\n",
              "      <th>punct</th>\n",
              "    </tr>\n",
              "  </thead>\n",
              "  <tbody>\n",
              "    <tr>\n",
              "      <th>708</th>\n",
              "      <td>49</td>\n",
              "      <td>6</td>\n",
              "    </tr>\n",
              "    <tr>\n",
              "      <th>4338</th>\n",
              "      <td>29</td>\n",
              "      <td>0</td>\n",
              "    </tr>\n",
              "    <tr>\n",
              "      <th>5029</th>\n",
              "      <td>67</td>\n",
              "      <td>1</td>\n",
              "    </tr>\n",
              "    <tr>\n",
              "      <th>4921</th>\n",
              "      <td>48</td>\n",
              "      <td>2</td>\n",
              "    </tr>\n",
              "    <tr>\n",
              "      <th>2592</th>\n",
              "      <td>44</td>\n",
              "      <td>3</td>\n",
              "    </tr>\n",
              "    <tr>\n",
              "      <th>...</th>\n",
              "      <td>...</td>\n",
              "      <td>...</td>\n",
              "    </tr>\n",
              "    <tr>\n",
              "      <th>3772</th>\n",
              "      <td>81</td>\n",
              "      <td>3</td>\n",
              "    </tr>\n",
              "    <tr>\n",
              "      <th>5191</th>\n",
              "      <td>22</td>\n",
              "      <td>2</td>\n",
              "    </tr>\n",
              "    <tr>\n",
              "      <th>5226</th>\n",
              "      <td>45</td>\n",
              "      <td>8</td>\n",
              "    </tr>\n",
              "    <tr>\n",
              "      <th>5390</th>\n",
              "      <td>26</td>\n",
              "      <td>0</td>\n",
              "    </tr>\n",
              "    <tr>\n",
              "      <th>860</th>\n",
              "      <td>39</td>\n",
              "      <td>0</td>\n",
              "    </tr>\n",
              "  </tbody>\n",
              "</table>\n",
              "<p>3900 rows × 2 columns</p>\n",
              "</div>"
            ],
            "text/plain": [
              "      length  punct\n",
              "708       49      6\n",
              "4338      29      0\n",
              "5029      67      1\n",
              "4921      48      2\n",
              "2592      44      3\n",
              "...      ...    ...\n",
              "3772      81      3\n",
              "5191      22      2\n",
              "5226      45      8\n",
              "5390      26      0\n",
              "860       39      0\n",
              "\n",
              "[3900 rows x 2 columns]"
            ]
          },
          "metadata": {
            "tags": []
          },
          "execution_count": 57
        }
      ]
    },
    {
      "cell_type": "code",
      "metadata": {
        "id": "85XywUBPcYn_",
        "colab_type": "code",
        "outputId": "a3549b8e-35c8-4f4b-85a5-e651f1d191de",
        "colab": {
          "base_uri": "https://localhost:8080/",
          "height": 34
        }
      },
      "source": [
        "#View X_train shape\n",
        "X_train.shape"
      ],
      "execution_count": 0,
      "outputs": [
        {
          "output_type": "execute_result",
          "data": {
            "text/plain": [
              "(3900, 2)"
            ]
          },
          "metadata": {
            "tags": []
          },
          "execution_count": 58
        }
      ]
    },
    {
      "cell_type": "code",
      "metadata": {
        "id": "sfHElvGycZDB",
        "colab_type": "code",
        "outputId": "60e12e2f-a776-43a1-e4dc-5403f023e498",
        "colab": {
          "base_uri": "https://localhost:8080/",
          "height": 34
        }
      },
      "source": [
        "#Check X_test shape\n",
        "X_test.shape"
      ],
      "execution_count": 0,
      "outputs": [
        {
          "output_type": "execute_result",
          "data": {
            "text/plain": [
              "(1672, 2)"
            ]
          },
          "metadata": {
            "tags": []
          },
          "execution_count": 59
        }
      ]
    },
    {
      "cell_type": "code",
      "metadata": {
        "id": "IVraOeUpdMmE",
        "colab_type": "code",
        "outputId": "52319670-001f-4b8a-81ed-91739db68c08",
        "colab": {
          "base_uri": "https://localhost:8080/",
          "height": 34
        }
      },
      "source": [
        "#Check y_train shape\n",
        "y_train.shape"
      ],
      "execution_count": 0,
      "outputs": [
        {
          "output_type": "execute_result",
          "data": {
            "text/plain": [
              "(3900,)"
            ]
          },
          "metadata": {
            "tags": []
          },
          "execution_count": 60
        }
      ]
    },
    {
      "cell_type": "code",
      "metadata": {
        "id": "YnuhpahJdPqE",
        "colab_type": "code",
        "outputId": "814d6d7a-b8d0-408a-a0b0-5a8d6f68fc0f",
        "colab": {
          "base_uri": "https://localhost:8080/",
          "height": 34
        }
      },
      "source": [
        "#Check y_test shape\n",
        "y_test.shape"
      ],
      "execution_count": 0,
      "outputs": [
        {
          "output_type": "execute_result",
          "data": {
            "text/plain": [
              "(1672,)"
            ]
          },
          "metadata": {
            "tags": []
          },
          "execution_count": 61
        }
      ]
    },
    {
      "cell_type": "code",
      "metadata": {
        "id": "WFG3p0w5cIMG",
        "colab_type": "code",
        "colab": {}
      },
      "source": [
        "#Let us create the Machine Learning Model\n",
        "from sklearn.linear_model import LogisticRegression"
      ],
      "execution_count": 0,
      "outputs": []
    },
    {
      "cell_type": "code",
      "metadata": {
        "id": "sPhh5x4KdkQb",
        "colab_type": "code",
        "colab": {}
      },
      "source": [
        "#Create instance of Logistic Regression\n",
        "logreg=LogisticRegression(solver='lbfgs')"
      ],
      "execution_count": 0,
      "outputs": []
    },
    {
      "cell_type": "code",
      "metadata": {
        "id": "LREK6ChUdkrN",
        "colab_type": "code",
        "outputId": "9455a7c3-d9e6-4fe3-e998-f8c8dbacf844",
        "colab": {
          "base_uri": "https://localhost:8080/",
          "height": 105
        }
      },
      "source": [
        "logreg.fit(X_train,y_train)"
      ],
      "execution_count": 0,
      "outputs": [
        {
          "output_type": "execute_result",
          "data": {
            "text/plain": [
              "LogisticRegression(C=1.0, class_weight=None, dual=False, fit_intercept=True,\n",
              "                   intercept_scaling=1, l1_ratio=None, max_iter=100,\n",
              "                   multi_class='auto', n_jobs=None, penalty='l2',\n",
              "                   random_state=None, solver='lbfgs', tol=0.0001, verbose=0,\n",
              "                   warm_start=False)"
            ]
          },
          "metadata": {
            "tags": []
          },
          "execution_count": 67
        }
      ]
    },
    {
      "cell_type": "code",
      "metadata": {
        "id": "Oj52bTO6dk_f",
        "colab_type": "code",
        "colab": {}
      },
      "source": [
        "#Predict the predictions\n",
        "y_pred=logreg.predict(X_test)"
      ],
      "execution_count": 0,
      "outputs": []
    },
    {
      "cell_type": "code",
      "metadata": {
        "id": "JrtBWmW-dlSX",
        "colab_type": "code",
        "outputId": "41d7f940-00e1-42ef-b92f-c784eae446b0",
        "colab": {
          "base_uri": "https://localhost:8080/",
          "height": 34
        }
      },
      "source": [
        "#Check the shape of the predictions\n",
        "#Shape of predictions y_pred and shape of y_test\n",
        "y_pred.shape"
      ],
      "execution_count": 0,
      "outputs": [
        {
          "output_type": "execute_result",
          "data": {
            "text/plain": [
              "(1672,)"
            ]
          },
          "metadata": {
            "tags": []
          },
          "execution_count": 70
        }
      ]
    },
    {
      "cell_type": "code",
      "metadata": {
        "id": "vhqhJkOgghAA",
        "colab_type": "code",
        "outputId": "7772415e-6068-4aaa-ac04-38dad7768ad3",
        "colab": {
          "base_uri": "https://localhost:8080/",
          "height": 34
        }
      },
      "source": [
        "#Let us take a look at the predictions\n",
        "y_pred"
      ],
      "execution_count": 0,
      "outputs": [
        {
          "output_type": "execute_result",
          "data": {
            "text/plain": [
              "array(['ham', 'ham', 'ham', ..., 'ham', 'ham', 'ham'], dtype=object)"
            ]
          },
          "metadata": {
            "tags": []
          },
          "execution_count": 72
        }
      ]
    },
    {
      "cell_type": "code",
      "metadata": {
        "id": "PT2BFj-Mdlnn",
        "colab_type": "code",
        "colab": {}
      },
      "source": [
        "#let us evaluation the model\n",
        "from sklearn import metrics"
      ],
      "execution_count": 0,
      "outputs": []
    },
    {
      "cell_type": "code",
      "metadata": {
        "id": "L8G07f5-dlwD",
        "colab_type": "code",
        "colab": {}
      },
      "source": [
        "#View the confusion matrice\n",
        "from sklearn.metrics import confusion_matrix"
      ],
      "execution_count": 0,
      "outputs": []
    },
    {
      "cell_type": "code",
      "metadata": {
        "id": "Y9A5eNJKdl3S",
        "colab_type": "code",
        "colab": {}
      },
      "source": [
        "cm=confusion_matrix(y_test,y_pred)"
      ],
      "execution_count": 0,
      "outputs": []
    },
    {
      "cell_type": "code",
      "metadata": {
        "id": "m41ujjIpg--C",
        "colab_type": "code",
        "outputId": "fd931b4a-e7ea-4567-bc75-1cd144d816af",
        "colab": {
          "base_uri": "https://localhost:8080/",
          "height": 52
        }
      },
      "source": [
        "cm"
      ],
      "execution_count": 0,
      "outputs": [
        {
          "output_type": "execute_result",
          "data": {
            "text/plain": [
              "array([[1404,   44],\n",
              "       [ 219,    5]])"
            ]
          },
          "metadata": {
            "tags": []
          },
          "execution_count": 79
        }
      ]
    },
    {
      "cell_type": "code",
      "metadata": {
        "id": "IhAyTyurg_jQ",
        "colab_type": "code",
        "colab": {}
      },
      "source": [
        "#View the confusion matrix with the labels\n",
        "dd=pd.DataFrame(cm,index=['ham','spam'],columns=['ham','spam'])"
      ],
      "execution_count": 0,
      "outputs": []
    },
    {
      "cell_type": "code",
      "metadata": {
        "id": "z8C0eWqdhB_6",
        "colab_type": "code",
        "outputId": "4adf530e-5a70-45ff-ef7c-94c59b179386",
        "colab": {
          "base_uri": "https://localhost:8080/",
          "height": 107
        }
      },
      "source": [
        "dd"
      ],
      "execution_count": 0,
      "outputs": [
        {
          "output_type": "execute_result",
          "data": {
            "text/html": [
              "<div>\n",
              "<style scoped>\n",
              "    .dataframe tbody tr th:only-of-type {\n",
              "        vertical-align: middle;\n",
              "    }\n",
              "\n",
              "    .dataframe tbody tr th {\n",
              "        vertical-align: top;\n",
              "    }\n",
              "\n",
              "    .dataframe thead th {\n",
              "        text-align: right;\n",
              "    }\n",
              "</style>\n",
              "<table border=\"1\" class=\"dataframe\">\n",
              "  <thead>\n",
              "    <tr style=\"text-align: right;\">\n",
              "      <th></th>\n",
              "      <th>ham</th>\n",
              "      <th>spam</th>\n",
              "    </tr>\n",
              "  </thead>\n",
              "  <tbody>\n",
              "    <tr>\n",
              "      <th>ham</th>\n",
              "      <td>1404</td>\n",
              "      <td>44</td>\n",
              "    </tr>\n",
              "    <tr>\n",
              "      <th>spam</th>\n",
              "      <td>219</td>\n",
              "      <td>5</td>\n",
              "    </tr>\n",
              "  </tbody>\n",
              "</table>\n",
              "</div>"
            ],
            "text/plain": [
              "       ham  spam\n",
              "ham   1404    44\n",
              "spam   219     5"
            ]
          },
          "metadata": {
            "tags": []
          },
          "execution_count": 81
        }
      ]
    },
    {
      "cell_type": "code",
      "metadata": {
        "id": "noTfq3hDhyym",
        "colab_type": "code",
        "colab": {}
      },
      "source": [
        "#View the classification report\n",
        "from sklearn.metrics import classification_report"
      ],
      "execution_count": 0,
      "outputs": []
    },
    {
      "cell_type": "code",
      "metadata": {
        "id": "wJEMz-olin2z",
        "colab_type": "code",
        "outputId": "186681af-d74e-4023-a98d-32f1d6a312fd",
        "colab": {
          "base_uri": "https://localhost:8080/",
          "height": 54
        }
      },
      "source": [
        "classification_report(y_test,y_pred)"
      ],
      "execution_count": 0,
      "outputs": [
        {
          "output_type": "execute_result",
          "data": {
            "text/plain": [
              "'              precision    recall  f1-score   support\\n\\n         ham       0.87      0.97      0.91      1448\\n        spam       0.10      0.02      0.04       224\\n\\n    accuracy                           0.84      1672\\n   macro avg       0.48      0.50      0.48      1672\\nweighted avg       0.76      0.84      0.80      1672\\n'"
            ]
          },
          "metadata": {
            "tags": []
          },
          "execution_count": 83
        }
      ]
    },
    {
      "cell_type": "code",
      "metadata": {
        "id": "6IdskK-TisO5",
        "colab_type": "code",
        "outputId": "c1dc2aa7-9ae9-4870-8684-72fdd03dc023",
        "colab": {
          "base_uri": "https://localhost:8080/",
          "height": 176
        }
      },
      "source": [
        "print(classification_report(y_test,y_pred))"
      ],
      "execution_count": 0,
      "outputs": [
        {
          "output_type": "stream",
          "text": [
            "              precision    recall  f1-score   support\n",
            "\n",
            "         ham       0.87      0.97      0.91      1448\n",
            "        spam       0.10      0.02      0.04       224\n",
            "\n",
            "    accuracy                           0.84      1672\n",
            "   macro avg       0.48      0.50      0.48      1672\n",
            "weighted avg       0.76      0.84      0.80      1672\n",
            "\n"
          ],
          "name": "stdout"
        }
      ]
    },
    {
      "cell_type": "code",
      "metadata": {
        "id": "UNWkD_tkizfF",
        "colab_type": "code",
        "colab": {}
      },
      "source": [
        "#View the accuracy score\n",
        "from sklearn.metrics import accuracy_score"
      ],
      "execution_count": 0,
      "outputs": []
    },
    {
      "cell_type": "code",
      "metadata": {
        "id": "G9ZmwJ2-i8V2",
        "colab_type": "code",
        "outputId": "e97a3125-4e77-44a8-84c5-f8b6cb3725d8",
        "colab": {
          "base_uri": "https://localhost:8080/",
          "height": 34
        }
      },
      "source": [
        "accuracy_score(y_test,y_pred)"
      ],
      "execution_count": 0,
      "outputs": [
        {
          "output_type": "execute_result",
          "data": {
            "text/plain": [
              "0.8427033492822966"
            ]
          },
          "metadata": {
            "tags": []
          },
          "execution_count": 86
        }
      ]
    },
    {
      "cell_type": "code",
      "metadata": {
        "id": "PpToJTHdi_Gx",
        "colab_type": "code",
        "outputId": "4bfbf9fa-2c31-4881-db1e-62599b0dccf7",
        "colab": {
          "base_uri": "https://localhost:8080/",
          "height": 34
        }
      },
      "source": [
        "print(accuracy_score(y_test,y_pred))"
      ],
      "execution_count": 0,
      "outputs": [
        {
          "output_type": "stream",
          "text": [
            "0.8427033492822966\n"
          ],
          "name": "stdout"
        }
      ]
    },
    {
      "cell_type": "code",
      "metadata": {
        "id": "UHtQ5fDxjDeJ",
        "colab_type": "code",
        "colab": {}
      },
      "source": [
        "#Now let us create a model with another algorithm\n",
        "from sklearn.naive_bayes import MultinomialNB"
      ],
      "execution_count": 0,
      "outputs": []
    },
    {
      "cell_type": "code",
      "metadata": {
        "id": "To5YxZiBjTbg",
        "colab_type": "code",
        "colab": {}
      },
      "source": [
        "#Create an instance of Naive Bayes \n",
        "nb_model=MultinomialNB()"
      ],
      "execution_count": 0,
      "outputs": []
    },
    {
      "cell_type": "code",
      "metadata": {
        "id": "yBdbF0BKjZlq",
        "colab_type": "code",
        "outputId": "4cfa8772-5d8b-4a11-d429-63422506e51d",
        "colab": {
          "base_uri": "https://localhost:8080/",
          "height": 34
        }
      },
      "source": [
        "#fit the Multinomial model with training data\n",
        "nb_model.fit(X_train,y_train)"
      ],
      "execution_count": 0,
      "outputs": [
        {
          "output_type": "execute_result",
          "data": {
            "text/plain": [
              "MultinomialNB(alpha=1.0, class_prior=None, fit_prior=True)"
            ]
          },
          "metadata": {
            "tags": []
          },
          "execution_count": 90
        }
      ]
    },
    {
      "cell_type": "code",
      "metadata": {
        "id": "HmfPY24WjhsK",
        "colab_type": "code",
        "colab": {}
      },
      "source": [
        "#Predict the values using the multinomial model created\n",
        "ynb_pred=nb_model.predict(X_test)"
      ],
      "execution_count": 0,
      "outputs": []
    },
    {
      "cell_type": "code",
      "metadata": {
        "id": "iEC3nRN9jrNv",
        "colab_type": "code",
        "outputId": "a413eb10-4b16-4af3-ab2f-04124ab0268a",
        "colab": {
          "base_uri": "https://localhost:8080/",
          "height": 34
        }
      },
      "source": [
        "#Check the shape of ynb_pred\n",
        "#This should be equal to the shape of y_test\n",
        "ynb_pred.shape"
      ],
      "execution_count": 0,
      "outputs": [
        {
          "output_type": "execute_result",
          "data": {
            "text/plain": [
              "(1672,)"
            ]
          },
          "metadata": {
            "tags": []
          },
          "execution_count": 92
        }
      ]
    },
    {
      "cell_type": "code",
      "metadata": {
        "id": "KlarOPJ4j3P_",
        "colab_type": "code",
        "colab": {}
      },
      "source": [
        "#Print the confusion matrix,classification report,accuracy score\n",
        "ddnb=pd.DataFrame(metrics.confusion_matrix(y_test,ynb_pred),index=['ham','spam'],columns=['ham','spam'])"
      ],
      "execution_count": 0,
      "outputs": []
    },
    {
      "cell_type": "code",
      "metadata": {
        "id": "3WmZneX1kX39",
        "colab_type": "code",
        "outputId": "3a080d88-ee2c-47ce-e76d-770b5e5a9a32",
        "colab": {
          "base_uri": "https://localhost:8080/",
          "height": 107
        }
      },
      "source": [
        "ddnb"
      ],
      "execution_count": 0,
      "outputs": [
        {
          "output_type": "execute_result",
          "data": {
            "text/html": [
              "<div>\n",
              "<style scoped>\n",
              "    .dataframe tbody tr th:only-of-type {\n",
              "        vertical-align: middle;\n",
              "    }\n",
              "\n",
              "    .dataframe tbody tr th {\n",
              "        vertical-align: top;\n",
              "    }\n",
              "\n",
              "    .dataframe thead th {\n",
              "        text-align: right;\n",
              "    }\n",
              "</style>\n",
              "<table border=\"1\" class=\"dataframe\">\n",
              "  <thead>\n",
              "    <tr style=\"text-align: right;\">\n",
              "      <th></th>\n",
              "      <th>ham</th>\n",
              "      <th>spam</th>\n",
              "    </tr>\n",
              "  </thead>\n",
              "  <tbody>\n",
              "    <tr>\n",
              "      <th>ham</th>\n",
              "      <td>1404</td>\n",
              "      <td>44</td>\n",
              "    </tr>\n",
              "    <tr>\n",
              "      <th>spam</th>\n",
              "      <td>219</td>\n",
              "      <td>5</td>\n",
              "    </tr>\n",
              "  </tbody>\n",
              "</table>\n",
              "</div>"
            ],
            "text/plain": [
              "       ham  spam\n",
              "ham   1404    44\n",
              "spam   219     5"
            ]
          },
          "metadata": {
            "tags": []
          },
          "execution_count": 95
        }
      ]
    },
    {
      "cell_type": "code",
      "metadata": {
        "id": "EyIWwrdtkUN8",
        "colab_type": "code",
        "outputId": "199e04b6-1abd-4877-9ff2-57622d8b7537",
        "colab": {
          "base_uri": "https://localhost:8080/",
          "height": 176
        }
      },
      "source": [
        "#View the classification report\n",
        "print(metrics.classification_report(y_test,ynb_pred))"
      ],
      "execution_count": 0,
      "outputs": [
        {
          "output_type": "stream",
          "text": [
            "              precision    recall  f1-score   support\n",
            "\n",
            "         ham       0.87      0.99      0.92      1448\n",
            "        spam       0.00      0.00      0.00       224\n",
            "\n",
            "    accuracy                           0.86      1672\n",
            "   macro avg       0.43      0.50      0.46      1672\n",
            "weighted avg       0.75      0.86      0.80      1672\n",
            "\n"
          ],
          "name": "stdout"
        }
      ]
    },
    {
      "cell_type": "code",
      "metadata": {
        "id": "Ij77cxREk2JW",
        "colab_type": "code",
        "outputId": "2058162f-4346-45fd-e219-2790a9a8651f",
        "colab": {
          "base_uri": "https://localhost:8080/",
          "height": 34
        }
      },
      "source": [
        "#View the accuracy score\n",
        "print(metrics.accuracy_score(y_test,ynb_pred))"
      ],
      "execution_count": 0,
      "outputs": [
        {
          "output_type": "stream",
          "text": [
            "0.8600478468899522\n"
          ],
          "name": "stdout"
        }
      ]
    },
    {
      "cell_type": "code",
      "metadata": {
        "id": "kiWlRDz2k8v8",
        "colab_type": "code",
        "colab": {}
      },
      "source": [
        "#Let us build Suppor Vector classification model\n",
        "from sklearn.svm import SVC"
      ],
      "execution_count": 0,
      "outputs": []
    },
    {
      "cell_type": "code",
      "metadata": {
        "id": "4F7hFH3hlXeD",
        "colab_type": "code",
        "colab": {}
      },
      "source": [
        "#Create instance of Support Vector cassification model\n",
        "svcmod=SVC()\n",
        "#svcmod=SVC(gamma='auto')\n",
        "#This can be set to auto"
      ],
      "execution_count": 0,
      "outputs": []
    },
    {
      "cell_type": "code",
      "metadata": {
        "id": "-LcaDeFmlcqc",
        "colab_type": "code",
        "outputId": "ca8830e9-5e68-4d42-8d69-436f3b5dcf24",
        "colab": {
          "base_uri": "https://localhost:8080/",
          "height": 87
        }
      },
      "source": [
        "#Fit the training data to the created Support Vector classification instance\n",
        "svcmod.fit(X_train,y_train)"
      ],
      "execution_count": 0,
      "outputs": [
        {
          "output_type": "execute_result",
          "data": {
            "text/plain": [
              "SVC(C=1.0, break_ties=False, cache_size=200, class_weight=None, coef0=0.0,\n",
              "    decision_function_shape='ovr', degree=3, gamma='scale', kernel='rbf',\n",
              "    max_iter=-1, probability=False, random_state=None, shrinking=True,\n",
              "    tol=0.001, verbose=False)"
            ]
          },
          "metadata": {
            "tags": []
          },
          "execution_count": 100
        }
      ]
    },
    {
      "cell_type": "code",
      "metadata": {
        "id": "negfGBWRlk1g",
        "colab_type": "code",
        "colab": {}
      },
      "source": [
        "#Predict the values using the SVC model\n",
        "ysvc_pred=svcmod.predict(X_test)"
      ],
      "execution_count": 0,
      "outputs": []
    },
    {
      "cell_type": "code",
      "metadata": {
        "id": "FUqnqgi2l2Rm",
        "colab_type": "code",
        "outputId": "f2686ae2-3b43-4943-a1aa-ee87a0d90457",
        "colab": {
          "base_uri": "https://localhost:8080/",
          "height": 34
        }
      },
      "source": [
        "#Check the shape of ysvc_pred\n",
        "#This hould be equal to y_test\n",
        "ysvc_pred.shape"
      ],
      "execution_count": 0,
      "outputs": [
        {
          "output_type": "execute_result",
          "data": {
            "text/plain": [
              "(1672,)"
            ]
          },
          "metadata": {
            "tags": []
          },
          "execution_count": 107
        }
      ]
    },
    {
      "cell_type": "code",
      "metadata": {
        "id": "8m_NHVoSmC68",
        "colab_type": "code",
        "colab": {}
      },
      "source": [
        "#Print the confusionmatrix\n",
        "ddsv=pd.DataFrame(metrics.confusion_matrix(y_test,ysvc_pred),index=['ham','spam'],columns=['ham','spam'])"
      ],
      "execution_count": 0,
      "outputs": []
    },
    {
      "cell_type": "code",
      "metadata": {
        "id": "S_eGn0FUmUcK",
        "colab_type": "code",
        "outputId": "c17e1c39-dba1-4f4b-df87-3f78fb000c71",
        "colab": {
          "base_uri": "https://localhost:8080/",
          "height": 107
        }
      },
      "source": [
        "ddsv"
      ],
      "execution_count": 0,
      "outputs": [
        {
          "output_type": "execute_result",
          "data": {
            "text/html": [
              "<div>\n",
              "<style scoped>\n",
              "    .dataframe tbody tr th:only-of-type {\n",
              "        vertical-align: middle;\n",
              "    }\n",
              "\n",
              "    .dataframe tbody tr th {\n",
              "        vertical-align: top;\n",
              "    }\n",
              "\n",
              "    .dataframe thead th {\n",
              "        text-align: right;\n",
              "    }\n",
              "</style>\n",
              "<table border=\"1\" class=\"dataframe\">\n",
              "  <thead>\n",
              "    <tr style=\"text-align: right;\">\n",
              "      <th></th>\n",
              "      <th>ham</th>\n",
              "      <th>spam</th>\n",
              "    </tr>\n",
              "  </thead>\n",
              "  <tbody>\n",
              "    <tr>\n",
              "      <th>ham</th>\n",
              "      <td>1420</td>\n",
              "      <td>28</td>\n",
              "    </tr>\n",
              "    <tr>\n",
              "      <th>spam</th>\n",
              "      <td>186</td>\n",
              "      <td>38</td>\n",
              "    </tr>\n",
              "  </tbody>\n",
              "</table>\n",
              "</div>"
            ],
            "text/plain": [
              "       ham  spam\n",
              "ham   1420    28\n",
              "spam   186    38"
            ]
          },
          "metadata": {
            "tags": []
          },
          "execution_count": 109
        }
      ]
    },
    {
      "cell_type": "code",
      "metadata": {
        "id": "Ulkc6yQlmViz",
        "colab_type": "code",
        "outputId": "7cc84945-50a0-40fe-ecbf-a9eb6bc64b85",
        "colab": {
          "base_uri": "https://localhost:8080/",
          "height": 176
        }
      },
      "source": [
        "#View Classification Report\n",
        "print(metrics.classification_report(y_test,ysvc_pred))"
      ],
      "execution_count": 0,
      "outputs": [
        {
          "output_type": "stream",
          "text": [
            "              precision    recall  f1-score   support\n",
            "\n",
            "         ham       0.88      0.98      0.93      1448\n",
            "        spam       0.58      0.17      0.26       224\n",
            "\n",
            "    accuracy                           0.87      1672\n",
            "   macro avg       0.73      0.58      0.60      1672\n",
            "weighted avg       0.84      0.87      0.84      1672\n",
            "\n"
          ],
          "name": "stdout"
        }
      ]
    },
    {
      "cell_type": "code",
      "metadata": {
        "id": "eGZQk-iKmf1x",
        "colab_type": "code",
        "outputId": "be3ace6d-49cd-4066-aedb-237a06cf0b77",
        "colab": {
          "base_uri": "https://localhost:8080/",
          "height": 34
        }
      },
      "source": [
        "#View the accuracy score\n",
        "print(metrics.accuracy_score(y_test,ysvc_pred))"
      ],
      "execution_count": 0,
      "outputs": [
        {
          "output_type": "stream",
          "text": [
            "0.8720095693779905\n"
          ],
          "name": "stdout"
        }
      ]
    },
    {
      "cell_type": "markdown",
      "metadata": {
        "id": "yU-LDRd96MFg",
        "colab_type": "text"
      },
      "source": [
        "##Text Feature Extraction-Code Along Implementations\n",
        "\n",
        "\n"
      ]
    },
    {
      "cell_type": "code",
      "metadata": {
        "id": "xYASWq296TY7",
        "colab_type": "code",
        "colab": {}
      },
      "source": [
        "import numpy as np\n",
        "import pandas as pd"
      ],
      "execution_count": 0,
      "outputs": []
    },
    {
      "cell_type": "code",
      "metadata": {
        "id": "tVKXW5wn7aYm",
        "colab_type": "code",
        "colab": {}
      },
      "source": [
        "df=pd.read_csv('/content/smsspamcollection.tsv',sep='\\t')"
      ],
      "execution_count": 0,
      "outputs": []
    },
    {
      "cell_type": "code",
      "metadata": {
        "id": "X5WnBLLQ7iNl",
        "colab_type": "code",
        "outputId": "73c42b71-24e9-45e4-95bc-ae5be88c2191",
        "colab": {
          "base_uri": "https://localhost:8080/",
          "height": 406
        }
      },
      "source": [
        "#Check if there are any missing values in the dataframe created\n",
        "df.isnull()"
      ],
      "execution_count": 0,
      "outputs": [
        {
          "output_type": "execute_result",
          "data": {
            "text/html": [
              "<div>\n",
              "<style scoped>\n",
              "    .dataframe tbody tr th:only-of-type {\n",
              "        vertical-align: middle;\n",
              "    }\n",
              "\n",
              "    .dataframe tbody tr th {\n",
              "        vertical-align: top;\n",
              "    }\n",
              "\n",
              "    .dataframe thead th {\n",
              "        text-align: right;\n",
              "    }\n",
              "</style>\n",
              "<table border=\"1\" class=\"dataframe\">\n",
              "  <thead>\n",
              "    <tr style=\"text-align: right;\">\n",
              "      <th></th>\n",
              "      <th>label</th>\n",
              "      <th>message</th>\n",
              "      <th>length</th>\n",
              "      <th>punct</th>\n",
              "    </tr>\n",
              "  </thead>\n",
              "  <tbody>\n",
              "    <tr>\n",
              "      <th>0</th>\n",
              "      <td>False</td>\n",
              "      <td>False</td>\n",
              "      <td>False</td>\n",
              "      <td>False</td>\n",
              "    </tr>\n",
              "    <tr>\n",
              "      <th>1</th>\n",
              "      <td>False</td>\n",
              "      <td>False</td>\n",
              "      <td>False</td>\n",
              "      <td>False</td>\n",
              "    </tr>\n",
              "    <tr>\n",
              "      <th>2</th>\n",
              "      <td>False</td>\n",
              "      <td>False</td>\n",
              "      <td>False</td>\n",
              "      <td>False</td>\n",
              "    </tr>\n",
              "    <tr>\n",
              "      <th>3</th>\n",
              "      <td>False</td>\n",
              "      <td>False</td>\n",
              "      <td>False</td>\n",
              "      <td>False</td>\n",
              "    </tr>\n",
              "    <tr>\n",
              "      <th>4</th>\n",
              "      <td>False</td>\n",
              "      <td>False</td>\n",
              "      <td>False</td>\n",
              "      <td>False</td>\n",
              "    </tr>\n",
              "    <tr>\n",
              "      <th>...</th>\n",
              "      <td>...</td>\n",
              "      <td>...</td>\n",
              "      <td>...</td>\n",
              "      <td>...</td>\n",
              "    </tr>\n",
              "    <tr>\n",
              "      <th>5567</th>\n",
              "      <td>False</td>\n",
              "      <td>False</td>\n",
              "      <td>False</td>\n",
              "      <td>False</td>\n",
              "    </tr>\n",
              "    <tr>\n",
              "      <th>5568</th>\n",
              "      <td>False</td>\n",
              "      <td>False</td>\n",
              "      <td>False</td>\n",
              "      <td>False</td>\n",
              "    </tr>\n",
              "    <tr>\n",
              "      <th>5569</th>\n",
              "      <td>False</td>\n",
              "      <td>False</td>\n",
              "      <td>False</td>\n",
              "      <td>False</td>\n",
              "    </tr>\n",
              "    <tr>\n",
              "      <th>5570</th>\n",
              "      <td>False</td>\n",
              "      <td>False</td>\n",
              "      <td>False</td>\n",
              "      <td>False</td>\n",
              "    </tr>\n",
              "    <tr>\n",
              "      <th>5571</th>\n",
              "      <td>False</td>\n",
              "      <td>False</td>\n",
              "      <td>False</td>\n",
              "      <td>False</td>\n",
              "    </tr>\n",
              "  </tbody>\n",
              "</table>\n",
              "<p>5572 rows × 4 columns</p>\n",
              "</div>"
            ],
            "text/plain": [
              "      label  message  length  punct\n",
              "0     False    False   False  False\n",
              "1     False    False   False  False\n",
              "2     False    False   False  False\n",
              "3     False    False   False  False\n",
              "4     False    False   False  False\n",
              "...     ...      ...     ...    ...\n",
              "5567  False    False   False  False\n",
              "5568  False    False   False  False\n",
              "5569  False    False   False  False\n",
              "5570  False    False   False  False\n",
              "5571  False    False   False  False\n",
              "\n",
              "[5572 rows x 4 columns]"
            ]
          },
          "metadata": {
            "tags": []
          },
          "execution_count": 114
        }
      ]
    },
    {
      "cell_type": "code",
      "metadata": {
        "id": "YRInrwkA7s3b",
        "colab_type": "code",
        "outputId": "24c6fd21-09d8-4ff1-ff81-59d29e449179",
        "colab": {
          "base_uri": "https://localhost:8080/",
          "height": 105
        }
      },
      "source": [
        "#Check for the count of missing values in the created dataframe labels\n",
        "df.isnull().sum()"
      ],
      "execution_count": 0,
      "outputs": [
        {
          "output_type": "execute_result",
          "data": {
            "text/plain": [
              "label      0\n",
              "message    0\n",
              "length     0\n",
              "punct      0\n",
              "dtype: int64"
            ]
          },
          "metadata": {
            "tags": []
          },
          "execution_count": 115
        }
      ]
    },
    {
      "cell_type": "code",
      "metadata": {
        "id": "Z9xILyP-72GA",
        "colab_type": "code",
        "outputId": "da64d369-80c4-4709-a80f-dad9d37ce438",
        "colab": {
          "base_uri": "https://localhost:8080/",
          "height": 70
        }
      },
      "source": [
        "#Count the unique values present inthe label column of the df\n",
        "#Get the cont of ham\n",
        "#Get the count of spam\n",
        "df['label'].value_counts()"
      ],
      "execution_count": 0,
      "outputs": [
        {
          "output_type": "execute_result",
          "data": {
            "text/plain": [
              "ham     4825\n",
              "spam     747\n",
              "Name: label, dtype: int64"
            ]
          },
          "metadata": {
            "tags": []
          },
          "execution_count": 116
        }
      ]
    },
    {
      "cell_type": "code",
      "metadata": {
        "id": "65jJW05t9L0A",
        "colab_type": "code",
        "colab": {}
      },
      "source": [
        "#Create the Feature i.e. X i.e independent label i.e. put the \"message\" column data into the X\n",
        "X=df['message']"
      ],
      "execution_count": 0,
      "outputs": []
    },
    {
      "cell_type": "code",
      "metadata": {
        "id": "T0DEuo2v-Sy-",
        "colab_type": "code",
        "outputId": "ab072419-6f86-4425-bc54-5a7c92bba7e7",
        "colab": {
          "base_uri": "https://localhost:8080/",
          "height": 230
        }
      },
      "source": [
        "#View X\n",
        "X"
      ],
      "execution_count": 0,
      "outputs": [
        {
          "output_type": "execute_result",
          "data": {
            "text/plain": [
              "0       Go until jurong point, crazy.. Available only ...\n",
              "1                           Ok lar... Joking wif u oni...\n",
              "2       Free entry in 2 a wkly comp to win FA Cup fina...\n",
              "3       U dun say so early hor... U c already then say...\n",
              "4       Nah I don't think he goes to usf, he lives aro...\n",
              "                              ...                        \n",
              "5567    This is the 2nd time we have tried 2 contact u...\n",
              "5568                 Will ü b going to esplanade fr home?\n",
              "5569    Pity, * was in mood for that. So...any other s...\n",
              "5570    The guy did some bitching but I acted like i'd...\n",
              "5571                           Rofl. Its true to its name\n",
              "Name: message, Length: 5572, dtype: object"
            ]
          },
          "metadata": {
            "tags": []
          },
          "execution_count": 127
        }
      ]
    },
    {
      "cell_type": "code",
      "metadata": {
        "id": "mkosCH5h9L6b",
        "colab_type": "code",
        "colab": {}
      },
      "source": [
        "#Create the dependent variable y i.e. put the \"label\" column data into y\n",
        "y=df['label']"
      ],
      "execution_count": 0,
      "outputs": []
    },
    {
      "cell_type": "code",
      "metadata": {
        "id": "CKhW7lAt-cjn",
        "colab_type": "code",
        "outputId": "11f493e5-cd6b-4a5b-e978-c87a2b5a521b",
        "colab": {
          "base_uri": "https://localhost:8080/",
          "height": 230
        }
      },
      "source": [
        "#View y\n",
        "y"
      ],
      "execution_count": 0,
      "outputs": [
        {
          "output_type": "execute_result",
          "data": {
            "text/plain": [
              "0        ham\n",
              "1        ham\n",
              "2       spam\n",
              "3        ham\n",
              "4        ham\n",
              "        ... \n",
              "5567    spam\n",
              "5568     ham\n",
              "5569     ham\n",
              "5570     ham\n",
              "5571     ham\n",
              "Name: label, Length: 5572, dtype: object"
            ]
          },
          "metadata": {
            "tags": []
          },
          "execution_count": 129
        }
      ]
    },
    {
      "cell_type": "code",
      "metadata": {
        "id": "yDWkSEGY8Dfo",
        "colab_type": "code",
        "colab": {}
      },
      "source": [
        "#Train Set Test set splitting\n",
        "from sklearn.model_selection import train_test_split"
      ],
      "execution_count": 0,
      "outputs": []
    },
    {
      "cell_type": "code",
      "metadata": {
        "id": "qP0SiRni8Q_R",
        "colab_type": "code",
        "colab": {}
      },
      "source": [
        "X_train,X_test,y_train,y_test=train_test_split(X,y,test_size=0.3,random_state=42)"
      ],
      "execution_count": 0,
      "outputs": []
    },
    {
      "cell_type": "code",
      "metadata": {
        "id": "KiKZqne28cBU",
        "colab_type": "code",
        "colab": {}
      },
      "source": [
        "#Perform count Vectorization\n",
        "from sklearn.feature_extraction.text import CountVectorizer"
      ],
      "execution_count": 0,
      "outputs": []
    },
    {
      "cell_type": "code",
      "metadata": {
        "id": "0U5bT1i1-Fsg",
        "colab_type": "code",
        "colab": {}
      },
      "source": [
        "#Create an instance of Count Vectorizer\n",
        "count_vect=CountVectorizer()"
      ],
      "execution_count": 0,
      "outputs": []
    },
    {
      "cell_type": "code",
      "metadata": {
        "id": "gt0-RH2t-Q-x",
        "colab_type": "code",
        "outputId": "7fd6edc2-0981-4078-9251-af907ab0d1cd",
        "colab": {
          "base_uri": "https://localhost:8080/",
          "height": 230
        }
      },
      "source": [
        "#Content in X is not changed yet\n",
        "#It is still containing the raw text\n",
        "X"
      ],
      "execution_count": 0,
      "outputs": [
        {
          "output_type": "execute_result",
          "data": {
            "text/plain": [
              "0       Go until jurong point, crazy.. Available only ...\n",
              "1                           Ok lar... Joking wif u oni...\n",
              "2       Free entry in 2 a wkly comp to win FA Cup fina...\n",
              "3       U dun say so early hor... U c already then say...\n",
              "4       Nah I don't think he goes to usf, he lives aro...\n",
              "                              ...                        \n",
              "5567    This is the 2nd time we have tried 2 contact u...\n",
              "5568                 Will ü b going to esplanade fr home?\n",
              "5569    Pity, * was in mood for that. So...any other s...\n",
              "5570    The guy did some bitching but I acted like i'd...\n",
              "5571                           Rofl. Its true to its name\n",
              "Name: message, Length: 5572, dtype: object"
            ]
          },
          "metadata": {
            "tags": []
          },
          "execution_count": 135
        }
      ]
    },
    {
      "cell_type": "code",
      "metadata": {
        "id": "FTn4bx4y-ps2",
        "colab_type": "code",
        "colab": {}
      },
      "source": [
        "#Now we shoud pass this raw text into the Count Vectorizer\n",
        "#This can be done in two ways\n",
        "#############    Way   1    #############\n",
        "#FIT THE VECTORIZER TO THE DATA(buid a vocabulary, count the number of words)\n",
        "#Here we fit only the X_train data\n",
        "#############################################count_vect.fit(X_train)\n",
        "\n",
        "#TRANSFORM THE ORIGINAL TEXT MESSAGE INTO A VECTOR\n",
        "#############################################X_train_counts=count_vect.transform(X_train)\n",
        "\n",
        "\n",
        "#############    Way   2    #############\n",
        "#Directly fit and transform in a same step\n",
        "X_train_counts=count_vect.fit_transform(X_train)"
      ],
      "execution_count": 0,
      "outputs": []
    },
    {
      "cell_type": "code",
      "metadata": {
        "id": "ldGRGpcwBj-m",
        "colab_type": "code",
        "outputId": "7a6007aa-6881-4280-cb00-c7083b6f0351",
        "colab": {
          "base_uri": "https://localhost:8080/",
          "height": 52
        }
      },
      "source": [
        "X_train_counts"
      ],
      "execution_count": 0,
      "outputs": [
        {
          "output_type": "execute_result",
          "data": {
            "text/plain": [
              "<3900x7263 sparse matrix of type '<class 'numpy.int64'>'\n",
              "\twith 52150 stored elements in Compressed Sparse Row format>"
            ]
          },
          "metadata": {
            "tags": []
          },
          "execution_count": 138
        }
      ]
    },
    {
      "cell_type": "code",
      "metadata": {
        "id": "scVppqQOCXxf",
        "colab_type": "code",
        "outputId": "b436abda-8669-4dd6-e542-571f5429e80c",
        "colab": {
          "base_uri": "https://localhost:8080/",
          "height": 34
        }
      },
      "source": [
        "#Check the shapeof original X_train\n",
        "X_train.shape"
      ],
      "execution_count": 0,
      "outputs": [
        {
          "output_type": "execute_result",
          "data": {
            "text/plain": [
              "(3900,)"
            ]
          },
          "metadata": {
            "tags": []
          },
          "execution_count": 139
        }
      ]
    },
    {
      "cell_type": "code",
      "metadata": {
        "id": "Qk1V4AldChqT",
        "colab_type": "code",
        "outputId": "0c43405a-29d6-4718-f42f-5d86700d9aeb",
        "colab": {
          "base_uri": "https://localhost:8080/",
          "height": 34
        }
      },
      "source": [
        "#Check the document term matrix obtained after vectorization\n",
        "X_train_counts.shape"
      ],
      "execution_count": 0,
      "outputs": [
        {
          "output_type": "execute_result",
          "data": {
            "text/plain": [
              "(3900, 7263)"
            ]
          },
          "metadata": {
            "tags": []
          },
          "execution_count": 140
        }
      ]
    },
    {
      "cell_type": "code",
      "metadata": {
        "id": "ZEIOiKWICq8x",
        "colab_type": "code",
        "outputId": "e6f630f8-4395-4a6e-e1b1-d8b322f47f13",
        "colab": {
          "base_uri": "https://localhost:8080/",
          "height": 923
        }
      },
      "source": [
        "#Let us try printing X_train_counts\n",
        "print(X_train_counts)"
      ],
      "execution_count": 0,
      "outputs": [
        {
          "output_type": "stream",
          "text": [
            "  (0, 5197)\t1\n",
            "  (0, 3756)\t1\n",
            "  (0, 3750)\t1\n",
            "  (0, 971)\t1\n",
            "  (0, 260)\t1\n",
            "  (0, 933)\t1\n",
            "  (0, 7162)\t1\n",
            "  (0, 2282)\t1\n",
            "  (1, 4622)\t1\n",
            "  (1, 6619)\t1\n",
            "  (1, 4473)\t1\n",
            "  (1, 5261)\t1\n",
            "  (2, 2950)\t1\n",
            "  (2, 1611)\t1\n",
            "  (2, 793)\t1\n",
            "  (2, 3181)\t2\n",
            "  (2, 891)\t1\n",
            "  (2, 5494)\t1\n",
            "  (2, 4710)\t1\n",
            "  (2, 7015)\t1\n",
            "  (2, 5708)\t1\n",
            "  (2, 1938)\t1\n",
            "  (2, 6374)\t1\n",
            "  (2, 6104)\t1\n",
            "  (3, 5567)\t1\n",
            "  :\t:\n",
            "  (3895, 7105)\t1\n",
            "  (3895, 7089)\t1\n",
            "  (3895, 3857)\t1\n",
            "  (3896, 3882)\t1\n",
            "  (3896, 1487)\t1\n",
            "  (3896, 3759)\t1\n",
            "  (3896, 5945)\t1\n",
            "  (3897, 3149)\t1\n",
            "  (3897, 5272)\t1\n",
            "  (3897, 2801)\t1\n",
            "  (3897, 5022)\t1\n",
            "  (3897, 5950)\t1\n",
            "  (3897, 5949)\t1\n",
            "  (3898, 6502)\t1\n",
            "  (3898, 5661)\t1\n",
            "  (3898, 4537)\t1\n",
            "  (3898, 3583)\t1\n",
            "  (3899, 3487)\t1\n",
            "  (3899, 2138)\t1\n",
            "  (3899, 3137)\t1\n",
            "  (3899, 3612)\t1\n",
            "  (3899, 5563)\t1\n",
            "  (3899, 6273)\t1\n",
            "  (3899, 5912)\t1\n",
            "  (3899, 4390)\t1\n"
          ],
          "name": "stdout"
        }
      ]
    },
    {
      "cell_type": "markdown",
      "metadata": {
        "id": "e36t3u8mJ1YF",
        "colab_type": "text"
      },
      "source": [
        "##Text Feature Extraction-Code Along-Part Two"
      ]
    },
    {
      "cell_type": "code",
      "metadata": {
        "id": "Qb6tJAKhJ5K0",
        "colab_type": "code",
        "colab": {}
      },
      "source": [
        "#Create term frequency inverse document frequency vecorizer\n",
        "from sklearn.feature_extraction.text import TfidfTransformer"
      ],
      "execution_count": 0,
      "outputs": []
    },
    {
      "cell_type": "code",
      "metadata": {
        "id": "lKaYqJRiKM19",
        "colab_type": "code",
        "colab": {}
      },
      "source": [
        "#Create an instance of the TfidfTransformer\n",
        "tfidf_transfomer=TfidfTransformer()"
      ],
      "execution_count": 0,
      "outputs": []
    },
    {
      "cell_type": "code",
      "metadata": {
        "id": "QptXmvC7KgU0",
        "colab_type": "code",
        "colab": {}
      },
      "source": [
        "#The results of the previously obtained term frequencies by count vectorization should be passed to the TfidfTransformer\n",
        "X_train_tfidf=tfidf_transfomer.fit_transform(X_train_counts)"
      ],
      "execution_count": 0,
      "outputs": []
    },
    {
      "cell_type": "code",
      "metadata": {
        "id": "HGPR4fVfK1Aw",
        "colab_type": "code",
        "outputId": "add2faa5-1cf7-40cd-f41d-b774dacba957",
        "colab": {
          "base_uri": "https://localhost:8080/",
          "height": 34
        }
      },
      "source": [
        "#Let us check the shape of tfidf that is fitted with the term frequency counts\n",
        "X_train_tfidf.shape"
      ],
      "execution_count": 0,
      "outputs": [
        {
          "output_type": "execute_result",
          "data": {
            "text/plain": [
              "(3900, 7263)"
            ]
          },
          "metadata": {
            "tags": []
          },
          "execution_count": 147
        }
      ]
    },
    {
      "cell_type": "code",
      "metadata": {
        "id": "_PvPo9ysLBaD",
        "colab_type": "code",
        "colab": {}
      },
      "source": [
        "# We generally perform count vectorization\n",
        "#Then, we perform, tfidf transformation\n",
        "#the above are performed in two different steps\n",
        "#But scikit gives us an option to perform both the steps as a single step\n",
        "from sklearn.feature_extraction.text import TfidfVectorizer"
      ],
      "execution_count": 0,
      "outputs": []
    },
    {
      "cell_type": "code",
      "metadata": {
        "id": "e1K8kSj2LsC7",
        "colab_type": "code",
        "colab": {}
      },
      "source": [
        "#Create an object of this Vectorizer\n",
        "vectorizer=TfidfVectorizer()"
      ],
      "execution_count": 0,
      "outputs": []
    },
    {
      "cell_type": "code",
      "metadata": {
        "id": "6P9RhukbL1JK",
        "colab_type": "code",
        "colab": {}
      },
      "source": [
        "#Here we fit the vectorizer with the original X_train\n",
        "#We directly fit the original data\n",
        "#No need to count the term document frequency and then calculating the inverse term document frequency\n",
        "X_train_combtfidf=vectorizer.fit_transform(X_train)"
      ],
      "execution_count": 0,
      "outputs": []
    },
    {
      "cell_type": "code",
      "metadata": {
        "id": "dp8kVyC6M2gC",
        "colab_type": "code",
        "colab": {}
      },
      "source": [
        "#Let us create a classifier\n",
        "#For example LinearSupport Vector classifier\n",
        "from sklearn.svm import LinearSVC"
      ],
      "execution_count": 0,
      "outputs": []
    },
    {
      "cell_type": "code",
      "metadata": {
        "id": "PkNJaVG4NC9K",
        "colab_type": "code",
        "colab": {}
      },
      "source": [
        "#Create the object of Linear Support Vector Classifier\n",
        "clf_svc=LinearSVC()"
      ],
      "execution_count": 0,
      "outputs": []
    },
    {
      "cell_type": "code",
      "metadata": {
        "id": "tkD4FRfoNU3o",
        "colab_type": "code",
        "outputId": "0727ff5e-f8d8-4c5a-9c4e-3998c1afe218",
        "colab": {
          "base_uri": "https://localhost:8080/",
          "height": 87
        }
      },
      "source": [
        "#We will fit the above created classifier with the idfs obtained\n",
        "clf_svc.fit(X_train_combtfidf,y_train)"
      ],
      "execution_count": 0,
      "outputs": [
        {
          "output_type": "execute_result",
          "data": {
            "text/plain": [
              "LinearSVC(C=1.0, class_weight=None, dual=True, fit_intercept=True,\n",
              "          intercept_scaling=1, loss='squared_hinge', max_iter=1000,\n",
              "          multi_class='ovr', penalty='l2', random_state=None, tol=0.0001,\n",
              "          verbose=0)"
            ]
          },
          "metadata": {
            "tags": []
          },
          "execution_count": 154
        }
      ]
    },
    {
      "cell_type": "code",
      "metadata": {
        "id": "t-m7j9ZhNvUG",
        "colab_type": "code",
        "colab": {}
      },
      "source": [
        "#until now we created\n",
        "#step1: tfidf\n",
        "#step2: fit the classifier\n",
        "#There is a concept of pipeline that will faciliatte us to perform the above two steps in a single pipeline\n",
        "from sklearn.pipeline import Pipeline"
      ],
      "execution_count": 0,
      "outputs": []
    },
    {
      "cell_type": "code",
      "metadata": {
        "id": "UMN5BBu4OP1r",
        "colab_type": "code",
        "colab": {}
      },
      "source": [
        "#Create an instanc eof the pipeline object\n",
        "#The pipeline is going to take a tuple or list of tuples as an input\n",
        "#What does this tuple contain\n",
        "#Part1:\n",
        "        #Name is tfidf\n",
        "        #Created an object of tfidfvectorizer\n",
        "#Part2: \n",
        "        #Name is clf\n",
        "        #Created an object of Linear Support Vector classifier\n",
        "text_clf=Pipeline([('tfidf',TfidfVectorizer()),('clf',LinearSVC())])"
      ],
      "execution_count": 0,
      "outputs": []
    },
    {
      "cell_type": "code",
      "metadata": {
        "id": "Kt1tsPkNQHP4",
        "colab_type": "code",
        "outputId": "135219a8-a7fb-42df-c1e4-1098690cce61",
        "colab": {
          "base_uri": "https://localhost:8080/",
          "height": 390
        }
      },
      "source": [
        "#Now we are using the pipeline\n",
        "#We can fit the original data to the created pipeline\n",
        "text_clf.fit(X_train,y_train)"
      ],
      "execution_count": 0,
      "outputs": [
        {
          "output_type": "execute_result",
          "data": {
            "text/plain": [
              "Pipeline(memory=None,\n",
              "         steps=[('tfidf',\n",
              "                 TfidfVectorizer(analyzer='word', binary=False,\n",
              "                                 decode_error='strict',\n",
              "                                 dtype=<class 'numpy.float64'>,\n",
              "                                 encoding='utf-8', input='content',\n",
              "                                 lowercase=True, max_df=1.0, max_features=None,\n",
              "                                 min_df=1, ngram_range=(1, 1), norm='l2',\n",
              "                                 preprocessor=None, smooth_idf=True,\n",
              "                                 stop_words=None, strip_accents=None,\n",
              "                                 sublinear_tf=False,\n",
              "                                 token_pattern='(?u)\\\\b\\\\w\\\\w+\\\\b',\n",
              "                                 tokenizer=None, use_idf=True,\n",
              "                                 vocabulary=None)),\n",
              "                ('clf',\n",
              "                 LinearSVC(C=1.0, class_weight=None, dual=True,\n",
              "                           fit_intercept=True, intercept_scaling=1,\n",
              "                           loss='squared_hinge', max_iter=1000,\n",
              "                           multi_class='ovr', penalty='l2', random_state=None,\n",
              "                           tol=0.0001, verbose=0))],\n",
              "         verbose=False)"
            ]
          },
          "metadata": {
            "tags": []
          },
          "execution_count": 157
        }
      ]
    },
    {
      "cell_type": "code",
      "metadata": {
        "id": "__p5cZrBQd0g",
        "colab_type": "code",
        "colab": {}
      },
      "source": [
        "#Let us check the predictions using this pipeline\n",
        "predictions=text_clf.predict(X_test)"
      ],
      "execution_count": 0,
      "outputs": []
    },
    {
      "cell_type": "code",
      "metadata": {
        "id": "PNKgMA1JQ-EZ",
        "colab_type": "code",
        "outputId": "88b9befc-a1a6-4d33-ec5c-58cb937088f2",
        "colab": {
          "base_uri": "https://localhost:8080/",
          "height": 230
        }
      },
      "source": [
        "#Let us take a look at the X_test\n",
        "X_test"
      ],
      "execution_count": 0,
      "outputs": [
        {
          "output_type": "execute_result",
          "data": {
            "text/plain": [
              "3245    Squeeeeeze!! This is christmas hug.. If u lik ...\n",
              "944     And also I've sorta blown him off a couple tim...\n",
              "1044    Mmm thats better now i got a roast down me! i...\n",
              "2484        Mm have some kanji dont eat anything heavy ok\n",
              "812     So there's a ring that comes with the guys cos...\n",
              "                              ...                        \n",
              "2505    Hello, my boytoy! I made it home and my consta...\n",
              "2525    FREE entry into our £250 weekly comp just send...\n",
              "4975    Aiyo u so poor thing... Then u dun wan 2 eat? ...\n",
              "650     You have won ?1,000 cash or a ?2,000 prize! To...\n",
              "4463    Sorry I flaked last night, shit's seriously go...\n",
              "Name: message, Length: 1672, dtype: object"
            ]
          },
          "metadata": {
            "tags": []
          },
          "execution_count": 160
        }
      ]
    },
    {
      "cell_type": "code",
      "metadata": {
        "id": "w3t8ui9XRD2Z",
        "colab_type": "code",
        "colab": {}
      },
      "source": [
        "#Now let us check the confusion matrix,classification_report and accuracy_score\n",
        "ddpp=pd.DataFrame(metrics.confusion_matrix(y_test,predictions),index=['ham','spam'],columns=['ham','spam'])"
      ],
      "execution_count": 0,
      "outputs": []
    },
    {
      "cell_type": "code",
      "metadata": {
        "id": "bI1lAv99Rh92",
        "colab_type": "code",
        "outputId": "97284bef-2f8c-4caa-baa2-e242b557c798",
        "colab": {
          "base_uri": "https://localhost:8080/",
          "height": 70
        }
      },
      "source": [
        "print(ddpp)"
      ],
      "execution_count": 0,
      "outputs": [
        {
          "output_type": "stream",
          "text": [
            "       ham  spam\n",
            "ham   1445     3\n",
            "spam    10   214\n"
          ],
          "name": "stdout"
        }
      ]
    },
    {
      "cell_type": "code",
      "metadata": {
        "id": "K9ETMQHuRvYZ",
        "colab_type": "code",
        "outputId": "727b40da-64e3-45f6-8eb3-48a3f3cfc628",
        "colab": {
          "base_uri": "https://localhost:8080/",
          "height": 176
        }
      },
      "source": [
        "#View the classification report\n",
        "print(metrics.classification_report(y_test,predictions))"
      ],
      "execution_count": 0,
      "outputs": [
        {
          "output_type": "stream",
          "text": [
            "              precision    recall  f1-score   support\n",
            "\n",
            "         ham       0.99      1.00      1.00      1448\n",
            "        spam       0.99      0.96      0.97       224\n",
            "\n",
            "    accuracy                           0.99      1672\n",
            "   macro avg       0.99      0.98      0.98      1672\n",
            "weighted avg       0.99      0.99      0.99      1672\n",
            "\n"
          ],
          "name": "stdout"
        }
      ]
    },
    {
      "cell_type": "code",
      "metadata": {
        "id": "qDMM2k31R26e",
        "colab_type": "code",
        "outputId": "6282e877-0869-43e2-f41e-efb7bf197f4c",
        "colab": {
          "base_uri": "https://localhost:8080/",
          "height": 34
        }
      },
      "source": [
        "#View the accuracy_score\n",
        "print(metrics.accuracy_score(y_test,predictions))"
      ],
      "execution_count": 0,
      "outputs": [
        {
          "output_type": "stream",
          "text": [
            "0.9922248803827751\n"
          ],
          "name": "stdout"
        }
      ]
    },
    {
      "cell_type": "code",
      "metadata": {
        "id": "MupBzATQSFKj",
        "colab_type": "code",
        "outputId": "3f7f3e0b-bdbc-4bde-f357-771e59729124",
        "colab": {
          "base_uri": "https://localhost:8080/",
          "height": 34
        }
      },
      "source": [
        "#Let us predict if some new message is spam or ham\n",
        "text_clf.predict([\"Hi how are you doing today?\"])"
      ],
      "execution_count": 0,
      "outputs": [
        {
          "output_type": "execute_result",
          "data": {
            "text/plain": [
              "array(['ham'], dtype=object)"
            ]
          },
          "metadata": {
            "tags": []
          },
          "execution_count": 167
        }
      ]
    },
    {
      "cell_type": "code",
      "metadata": {
        "id": "TtvtApJ0Sumv",
        "colab_type": "code",
        "outputId": "1f9fc0d6-a1ab-4d83-8db8-d091f7f2cb93",
        "colab": {
          "base_uri": "https://localhost:8080/",
          "height": 34
        }
      },
      "source": [
        "#Now let us check for another new message\n",
        "text_clf.predict([\"Congratulations! You've been selected as a winner. TEXT WON to 44255 congratulations free entry to contest.\"])"
      ],
      "execution_count": 0,
      "outputs": [
        {
          "output_type": "execute_result",
          "data": {
            "text/plain": [
              "array(['spam'], dtype=object)"
            ]
          },
          "metadata": {
            "tags": []
          },
          "execution_count": 168
        }
      ]
    },
    {
      "cell_type": "markdown",
      "metadata": {
        "id": "HfA0QYUjTmmi",
        "colab_type": "text"
      },
      "source": [
        "##Text Classification Code Along Project"
      ]
    },
    {
      "cell_type": "code",
      "metadata": {
        "id": "Z7TGrkRtTpWD",
        "colab_type": "code",
        "colab": {}
      },
      "source": [
        "#We are going to predict if a particular review in the movie dataset is  positive or not\n",
        "import numpy as np\n",
        "import pandas as pd"
      ],
      "execution_count": 0,
      "outputs": []
    },
    {
      "cell_type": "code",
      "metadata": {
        "id": "D-PbTMe8T5DV",
        "colab_type": "code",
        "colab": {}
      },
      "source": [
        "dff=pd.read_csv('/content/moviereviews.tsv',sep='\\t')"
      ],
      "execution_count": 0,
      "outputs": []
    },
    {
      "cell_type": "code",
      "metadata": {
        "id": "s1USdxyjUYJ4",
        "colab_type": "code",
        "outputId": "23996664-e991-4ce6-b129-cb9737be98f9",
        "colab": {
          "base_uri": "https://localhost:8080/",
          "height": 406
        }
      },
      "source": [
        "#View the imprted oviereviews dataset\n",
        "dff"
      ],
      "execution_count": 0,
      "outputs": [
        {
          "output_type": "execute_result",
          "data": {
            "text/html": [
              "<div>\n",
              "<style scoped>\n",
              "    .dataframe tbody tr th:only-of-type {\n",
              "        vertical-align: middle;\n",
              "    }\n",
              "\n",
              "    .dataframe tbody tr th {\n",
              "        vertical-align: top;\n",
              "    }\n",
              "\n",
              "    .dataframe thead th {\n",
              "        text-align: right;\n",
              "    }\n",
              "</style>\n",
              "<table border=\"1\" class=\"dataframe\">\n",
              "  <thead>\n",
              "    <tr style=\"text-align: right;\">\n",
              "      <th></th>\n",
              "      <th>label</th>\n",
              "      <th>review</th>\n",
              "    </tr>\n",
              "  </thead>\n",
              "  <tbody>\n",
              "    <tr>\n",
              "      <th>0</th>\n",
              "      <td>neg</td>\n",
              "      <td>how do films like mouse hunt get into theatres...</td>\n",
              "    </tr>\n",
              "    <tr>\n",
              "      <th>1</th>\n",
              "      <td>neg</td>\n",
              "      <td>some talented actresses are blessed with a dem...</td>\n",
              "    </tr>\n",
              "    <tr>\n",
              "      <th>2</th>\n",
              "      <td>pos</td>\n",
              "      <td>this has been an extraordinary year for austra...</td>\n",
              "    </tr>\n",
              "    <tr>\n",
              "      <th>3</th>\n",
              "      <td>pos</td>\n",
              "      <td>according to hollywood movies made in last few...</td>\n",
              "    </tr>\n",
              "    <tr>\n",
              "      <th>4</th>\n",
              "      <td>neg</td>\n",
              "      <td>my first press screening of 1998 and already i...</td>\n",
              "    </tr>\n",
              "    <tr>\n",
              "      <th>...</th>\n",
              "      <td>...</td>\n",
              "      <td>...</td>\n",
              "    </tr>\n",
              "    <tr>\n",
              "      <th>1995</th>\n",
              "      <td>pos</td>\n",
              "      <td>i like movies with albert brooks , and i reall...</td>\n",
              "    </tr>\n",
              "    <tr>\n",
              "      <th>1996</th>\n",
              "      <td>pos</td>\n",
              "      <td>it might surprise some to know that joel and e...</td>\n",
              "    </tr>\n",
              "    <tr>\n",
              "      <th>1997</th>\n",
              "      <td>pos</td>\n",
              "      <td>the verdict : spine-chilling drama from horror...</td>\n",
              "    </tr>\n",
              "    <tr>\n",
              "      <th>1998</th>\n",
              "      <td>pos</td>\n",
              "      <td>i want to correct what i wrote in a former ret...</td>\n",
              "    </tr>\n",
              "    <tr>\n",
              "      <th>1999</th>\n",
              "      <td>pos</td>\n",
              "      <td>a couple of months ago , when i first download...</td>\n",
              "    </tr>\n",
              "  </tbody>\n",
              "</table>\n",
              "<p>2000 rows × 2 columns</p>\n",
              "</div>"
            ],
            "text/plain": [
              "     label                                             review\n",
              "0      neg  how do films like mouse hunt get into theatres...\n",
              "1      neg  some talented actresses are blessed with a dem...\n",
              "2      pos  this has been an extraordinary year for austra...\n",
              "3      pos  according to hollywood movies made in last few...\n",
              "4      neg  my first press screening of 1998 and already i...\n",
              "...    ...                                                ...\n",
              "1995   pos  i like movies with albert brooks , and i reall...\n",
              "1996   pos  it might surprise some to know that joel and e...\n",
              "1997   pos  the verdict : spine-chilling drama from horror...\n",
              "1998   pos  i want to correct what i wrote in a former ret...\n",
              "1999   pos  a couple of months ago , when i first download...\n",
              "\n",
              "[2000 rows x 2 columns]"
            ]
          },
          "metadata": {
            "tags": []
          },
          "execution_count": 172
        }
      ]
    },
    {
      "cell_type": "code",
      "metadata": {
        "id": "9b2zMRFGUdhc",
        "colab_type": "code",
        "outputId": "df43e922-514c-4b42-d444-ac92c0cd7319",
        "colab": {
          "base_uri": "https://localhost:8080/",
          "height": 34
        }
      },
      "source": [
        "#Check the length of datset\n",
        "len(dff)"
      ],
      "execution_count": 0,
      "outputs": [
        {
          "output_type": "execute_result",
          "data": {
            "text/plain": [
              "2000"
            ]
          },
          "metadata": {
            "tags": []
          },
          "execution_count": 174
        }
      ]
    },
    {
      "cell_type": "code",
      "metadata": {
        "id": "dIE88oaLUr64",
        "colab_type": "code",
        "outputId": "d5702a21-8155-4358-cff7-2fce58209ca7",
        "colab": {
          "base_uri": "https://localhost:8080/",
          "height": 197
        }
      },
      "source": [
        "#Check thehead of dataset\n",
        "dff.head()"
      ],
      "execution_count": 0,
      "outputs": [
        {
          "output_type": "execute_result",
          "data": {
            "text/html": [
              "<div>\n",
              "<style scoped>\n",
              "    .dataframe tbody tr th:only-of-type {\n",
              "        vertical-align: middle;\n",
              "    }\n",
              "\n",
              "    .dataframe tbody tr th {\n",
              "        vertical-align: top;\n",
              "    }\n",
              "\n",
              "    .dataframe thead th {\n",
              "        text-align: right;\n",
              "    }\n",
              "</style>\n",
              "<table border=\"1\" class=\"dataframe\">\n",
              "  <thead>\n",
              "    <tr style=\"text-align: right;\">\n",
              "      <th></th>\n",
              "      <th>label</th>\n",
              "      <th>review</th>\n",
              "    </tr>\n",
              "  </thead>\n",
              "  <tbody>\n",
              "    <tr>\n",
              "      <th>0</th>\n",
              "      <td>neg</td>\n",
              "      <td>how do films like mouse hunt get into theatres...</td>\n",
              "    </tr>\n",
              "    <tr>\n",
              "      <th>1</th>\n",
              "      <td>neg</td>\n",
              "      <td>some talented actresses are blessed with a dem...</td>\n",
              "    </tr>\n",
              "    <tr>\n",
              "      <th>2</th>\n",
              "      <td>pos</td>\n",
              "      <td>this has been an extraordinary year for austra...</td>\n",
              "    </tr>\n",
              "    <tr>\n",
              "      <th>3</th>\n",
              "      <td>pos</td>\n",
              "      <td>according to hollywood movies made in last few...</td>\n",
              "    </tr>\n",
              "    <tr>\n",
              "      <th>4</th>\n",
              "      <td>neg</td>\n",
              "      <td>my first press screening of 1998 and already i...</td>\n",
              "    </tr>\n",
              "  </tbody>\n",
              "</table>\n",
              "</div>"
            ],
            "text/plain": [
              "  label                                             review\n",
              "0   neg  how do films like mouse hunt get into theatres...\n",
              "1   neg  some talented actresses are blessed with a dem...\n",
              "2   pos  this has been an extraordinary year for austra...\n",
              "3   pos  according to hollywood movies made in last few...\n",
              "4   neg  my first press screening of 1998 and already i..."
            ]
          },
          "metadata": {
            "tags": []
          },
          "execution_count": 175
        }
      ]
    },
    {
      "cell_type": "code",
      "metadata": {
        "id": "3USI6wi8Uxyx",
        "colab_type": "code",
        "outputId": "103a7925-f91b-4e66-c516-9439965afc76",
        "colab": {
          "base_uri": "https://localhost:8080/",
          "height": 54
        }
      },
      "source": [
        "#let us take a look at one of the reviews\n",
        "#We are looking at the first review\n",
        "dff['review'][0]"
      ],
      "execution_count": 0,
      "outputs": [
        {
          "output_type": "execute_result",
          "data": {
            "text/plain": [
              "'how do films like mouse hunt get into theatres ? \\r\\nisn\\'t there a law or something ? \\r\\nthis diabolical load of claptrap from steven speilberg\\'s dreamworks studio is hollywood family fare at its deadly worst . \\r\\nmouse hunt takes the bare threads of a plot and tries to prop it up with overacting and flat-out stupid slapstick that makes comedies like jingle all the way look decent by comparison . \\r\\nwriter adam rifkin and director gore verbinski are the names chiefly responsible for this swill . \\r\\nthe plot , for what its worth , concerns two brothers ( nathan lane and an appalling lee evens ) who inherit a poorly run string factory and a seemingly worthless house from their eccentric father . \\r\\ndeciding to check out the long-abandoned house , they soon learn that it\\'s worth a fortune and set about selling it in auction to the highest bidder . \\r\\nbut battling them at every turn is a very smart mouse , happy with his run-down little abode and wanting it to stay that way . \\r\\nthe story alternates between unfunny scenes of the brothers bickering over what to do with their inheritance and endless action sequences as the two take on their increasingly determined furry foe . \\r\\nwhatever promise the film starts with soon deteriorates into boring dialogue , terrible overacting , and increasingly uninspired slapstick that becomes all sound and fury , signifying nothing . \\r\\nthe script becomes so unspeakably bad that the best line poor lee evens can utter after another run in with the rodent is : \" i hate that mouse \" . \\r\\noh cringe ! \\r\\nthis is home alone all over again , and ten times worse . \\r\\none touching scene early on is worth mentioning . \\r\\nwe follow the mouse through a maze of walls and pipes until he arrives at his makeshift abode somewhere in a wall . \\r\\nhe jumps into a tiny bed , pulls up a makeshift sheet and snuggles up to sleep , seemingly happy and just wanting to be left alone . \\r\\nit\\'s a magical little moment in an otherwise soulless film . \\r\\na message to speilberg : if you want dreamworks to be associated with some kind of artistic credibility , then either give all concerned in mouse hunt a swift kick up the arse or hire yourself some decent writers and directors . \\r\\nthis kind of rubbish will just not do at all . \\r\\n'"
            ]
          },
          "metadata": {
            "tags": []
          },
          "execution_count": 178
        }
      ]
    },
    {
      "cell_type": "code",
      "metadata": {
        "id": "2GzGiAfWU8Vz",
        "colab_type": "code",
        "outputId": "9e75fac5-e0e4-4efd-9591-2c88a403eb8c",
        "colab": {
          "base_uri": "https://localhost:8080/",
          "height": 392
        }
      },
      "source": [
        "#Since it is containing escape sequences let us print it\n",
        "print(dff['review'][0])#this is a negative review"
      ],
      "execution_count": 0,
      "outputs": [
        {
          "output_type": "stream",
          "text": [
            "how do films like mouse hunt get into theatres ? \r\n",
            "isn't there a law or something ? \r\n",
            "this diabolical load of claptrap from steven speilberg's dreamworks studio is hollywood family fare at its deadly worst . \r\n",
            "mouse hunt takes the bare threads of a plot and tries to prop it up with overacting and flat-out stupid slapstick that makes comedies like jingle all the way look decent by comparison . \r\n",
            "writer adam rifkin and director gore verbinski are the names chiefly responsible for this swill . \r\n",
            "the plot , for what its worth , concerns two brothers ( nathan lane and an appalling lee evens ) who inherit a poorly run string factory and a seemingly worthless house from their eccentric father . \r\n",
            "deciding to check out the long-abandoned house , they soon learn that it's worth a fortune and set about selling it in auction to the highest bidder . \r\n",
            "but battling them at every turn is a very smart mouse , happy with his run-down little abode and wanting it to stay that way . \r\n",
            "the story alternates between unfunny scenes of the brothers bickering over what to do with their inheritance and endless action sequences as the two take on their increasingly determined furry foe . \r\n",
            "whatever promise the film starts with soon deteriorates into boring dialogue , terrible overacting , and increasingly uninspired slapstick that becomes all sound and fury , signifying nothing . \r\n",
            "the script becomes so unspeakably bad that the best line poor lee evens can utter after another run in with the rodent is : \" i hate that mouse \" . \r\n",
            "oh cringe ! \r\n",
            "this is home alone all over again , and ten times worse . \r\n",
            "one touching scene early on is worth mentioning . \r\n",
            "we follow the mouse through a maze of walls and pipes until he arrives at his makeshift abode somewhere in a wall . \r\n",
            "he jumps into a tiny bed , pulls up a makeshift sheet and snuggles up to sleep , seemingly happy and just wanting to be left alone . \r\n",
            "it's a magical little moment in an otherwise soulless film . \r\n",
            "a message to speilberg : if you want dreamworks to be associated with some kind of artistic credibility , then either give all concerned in mouse hunt a swift kick up the arse or hire yourself some decent writers and directors . \r\n",
            "this kind of rubbish will just not do at all . \r\n",
            "\n"
          ],
          "name": "stdout"
        }
      ]
    },
    {
      "cell_type": "code",
      "metadata": {
        "id": "i8ad9W6YVOIP",
        "colab_type": "code",
        "outputId": "de038a0e-0e22-4689-f924-3059069de5d7",
        "colab": {
          "base_uri": "https://localhost:8080/",
          "height": 54
        }
      },
      "source": [
        "#Let us take a look at one positive review\n",
        "dff['review'][2]"
      ],
      "execution_count": 0,
      "outputs": [
        {
          "output_type": "execute_result",
          "data": {
            "text/plain": [
              "'this has been an extraordinary year for australian films . \\r\\n \" shine \" has just scooped the pool at the australian film institute awards , picking up best film , best actor , best director etc . to that we can add the gritty \" life \" ( the anguish , courage and friendship of a group of male prisoners in the hiv-positive section of a jail ) and \" love and other catastrophes \" ( a low budget gem about straight and gay love on and near a university campus ) . \\r\\ni can\\'t recall a year in which such a rich and varied celluloid library was unleashed from australia . \\r\\n \" shine \" was one bookend . \\r\\nstand by for the other one : \" dead heart \" . \\r\\n>from the opening credits the theme of division is established . \\r\\nthe cast credits have clear and distinct lines separating their first and last names . \\r\\nbryan | brown . \\r\\nin a desert settlement , hundreds of kilometres from the nearest town , there is an uneasy calm between the local aboriginals and the handful of white settlers who live nearby . \\r\\nthe local police officer has the task of enforcing \" white man\\'s justice \" to the aboriginals . \\r\\nthese are people with a proud 40 , 000 year heritage behind them . \\r\\nnaturally , this includes their own system of justice ; key to which is \" payback \" . \\r\\nan eye for an eye . \\r\\nrevenge . \\r\\nusually extracted by the spearing through of the recipient\\'s thigh . \\r\\nbrown , as the officer , manages quite well to keep the balance . \\r\\nhe admits that he has to \\'bend the rules\\' a bit , including actively encouraging at least one brutal \" payback \" . \\r\\n ( be warned that this scene , near the start , is not for the squeamish ) . \\r\\nthe local priest - an aboriginal , but in the \" white fellas \" church - has a foot on either side of the line . \\r\\nhe is , figuratively and literally , in both camps . \\r\\nernie dingo brings a great deal of understanding to this role as the man in the middle . \\r\\nhe is part churchman and part politician . \\r\\nhowever the tension , like the heat , flies and dust , is always there . \\r\\nwhilst her husband - the local teacher - is in church , white lady kate ( milliken ) and her aborginal friend tony , ( pedersen ) have gone off into the hills . \\r\\nhe takes her to a sacred site , even today strictly men-only . \\r\\nshe appears to not know this . \\r\\ntony tells her that this is a special place , an initiation place . \\r\\nhe then makes love to her , surrounded by ancient rock art . \\r\\nthe community finds out about this sacrilegious act and it\\'s payback time . \\r\\nthe fuse is lit and the brittle inter-racial peace is shattered . \\r\\neveryone is affected in the fall out . \\r\\nto say more is to give away the details of this finely crafted film . \\r\\nsuffice to say it\\'s a rewarding experience . \\r\\nbryan brown , acting and co-producing , is the pivotal character . \\r\\nhis officer is real , human and therefore flawed . \\r\\nbrown comments that he expects audiences to feel warmth towards the man , then suddenly feel angry about him . \\r\\nit wasn\\'t long ago that i visited central australia - ayers rock ( uluru ) and alice springs - for the first time . \\r\\nthe wide-screen cinematography shows the dead heart of australia in a way that captures it\\'s vicious beauty , but never deteriorates into a moving slide show , in which the gorgeous background dominates those pesky actors in the foreground . \\r\\nthe cultural clash has provided the thesis for many a film ; from the western to the birdcage . \\r\\nat least three excellent australian films have covered the aboriginal people and the line between them and we anglo-saxon \\'invaders\\' : \" jedda \" , \" the chant of jimmie blacksmith \" and \" the last wave \" . \\r\\nin a year when the race \\'debate\\' has reared up in australia , it is nourishing to see such an intelligent , non-judgemental film as \" dead heart \" . \\r\\nthe aboriginal priest best sums this up . \\r\\nhe is asked to say if he is a \" black fella or white fella \" . \\r\\n'"
            ]
          },
          "metadata": {
            "tags": []
          },
          "execution_count": 184
        }
      ]
    },
    {
      "cell_type": "code",
      "metadata": {
        "id": "fX4i9hAzWkTz",
        "colab_type": "code",
        "outputId": "3e21705a-7ebe-4812-ec04-ec80d92f1e2e",
        "colab": {
          "base_uri": "https://localhost:8080/",
          "height": 818
        }
      },
      "source": [
        "print(dff['review'][2])"
      ],
      "execution_count": 0,
      "outputs": [
        {
          "output_type": "stream",
          "text": [
            "this has been an extraordinary year for australian films . \r\n",
            " \" shine \" has just scooped the pool at the australian film institute awards , picking up best film , best actor , best director etc . to that we can add the gritty \" life \" ( the anguish , courage and friendship of a group of male prisoners in the hiv-positive section of a jail ) and \" love and other catastrophes \" ( a low budget gem about straight and gay love on and near a university campus ) . \r\n",
            "i can't recall a year in which such a rich and varied celluloid library was unleashed from australia . \r\n",
            " \" shine \" was one bookend . \r\n",
            "stand by for the other one : \" dead heart \" . \r\n",
            ">from the opening credits the theme of division is established . \r\n",
            "the cast credits have clear and distinct lines separating their first and last names . \r\n",
            "bryan | brown . \r\n",
            "in a desert settlement , hundreds of kilometres from the nearest town , there is an uneasy calm between the local aboriginals and the handful of white settlers who live nearby . \r\n",
            "the local police officer has the task of enforcing \" white man's justice \" to the aboriginals . \r\n",
            "these are people with a proud 40 , 000 year heritage behind them . \r\n",
            "naturally , this includes their own system of justice ; key to which is \" payback \" . \r\n",
            "an eye for an eye . \r\n",
            "revenge . \r\n",
            "usually extracted by the spearing through of the recipient's thigh . \r\n",
            "brown , as the officer , manages quite well to keep the balance . \r\n",
            "he admits that he has to 'bend the rules' a bit , including actively encouraging at least one brutal \" payback \" . \r\n",
            " ( be warned that this scene , near the start , is not for the squeamish ) . \r\n",
            "the local priest - an aboriginal , but in the \" white fellas \" church - has a foot on either side of the line . \r\n",
            "he is , figuratively and literally , in both camps . \r\n",
            "ernie dingo brings a great deal of understanding to this role as the man in the middle . \r\n",
            "he is part churchman and part politician . \r\n",
            "however the tension , like the heat , flies and dust , is always there . \r\n",
            "whilst her husband - the local teacher - is in church , white lady kate ( milliken ) and her aborginal friend tony , ( pedersen ) have gone off into the hills . \r\n",
            "he takes her to a sacred site , even today strictly men-only . \r\n",
            "she appears to not know this . \r\n",
            "tony tells her that this is a special place , an initiation place . \r\n",
            "he then makes love to her , surrounded by ancient rock art . \r\n",
            "the community finds out about this sacrilegious act and it's payback time . \r\n",
            "the fuse is lit and the brittle inter-racial peace is shattered . \r\n",
            "everyone is affected in the fall out . \r\n",
            "to say more is to give away the details of this finely crafted film . \r\n",
            "suffice to say it's a rewarding experience . \r\n",
            "bryan brown , acting and co-producing , is the pivotal character . \r\n",
            "his officer is real , human and therefore flawed . \r\n",
            "brown comments that he expects audiences to feel warmth towards the man , then suddenly feel angry about him . \r\n",
            "it wasn't long ago that i visited central australia - ayers rock ( uluru ) and alice springs - for the first time . \r\n",
            "the wide-screen cinematography shows the dead heart of australia in a way that captures it's vicious beauty , but never deteriorates into a moving slide show , in which the gorgeous background dominates those pesky actors in the foreground . \r\n",
            "the cultural clash has provided the thesis for many a film ; from the western to the birdcage . \r\n",
            "at least three excellent australian films have covered the aboriginal people and the line between them and we anglo-saxon 'invaders' : \" jedda \" , \" the chant of jimmie blacksmith \" and \" the last wave \" . \r\n",
            "in a year when the race 'debate' has reared up in australia , it is nourishing to see such an intelligent , non-judgemental film as \" dead heart \" . \r\n",
            "the aboriginal priest best sums this up . \r\n",
            "he is asked to say if he is a \" black fella or white fella \" . \r\n",
            "\n"
          ],
          "name": "stdout"
        }
      ]
    },
    {
      "cell_type": "code",
      "metadata": {
        "id": "AxYLdnMYWoV_",
        "colab_type": "code",
        "outputId": "1b2fb39f-447d-4ad5-fb58-c89b3cd3192c",
        "colab": {
          "base_uri": "https://localhost:8080/",
          "height": 406
        }
      },
      "source": [
        "#Let us check for missing values\n",
        "dff.isnull()"
      ],
      "execution_count": 0,
      "outputs": [
        {
          "output_type": "execute_result",
          "data": {
            "text/html": [
              "<div>\n",
              "<style scoped>\n",
              "    .dataframe tbody tr th:only-of-type {\n",
              "        vertical-align: middle;\n",
              "    }\n",
              "\n",
              "    .dataframe tbody tr th {\n",
              "        vertical-align: top;\n",
              "    }\n",
              "\n",
              "    .dataframe thead th {\n",
              "        text-align: right;\n",
              "    }\n",
              "</style>\n",
              "<table border=\"1\" class=\"dataframe\">\n",
              "  <thead>\n",
              "    <tr style=\"text-align: right;\">\n",
              "      <th></th>\n",
              "      <th>label</th>\n",
              "      <th>review</th>\n",
              "    </tr>\n",
              "  </thead>\n",
              "  <tbody>\n",
              "    <tr>\n",
              "      <th>0</th>\n",
              "      <td>False</td>\n",
              "      <td>False</td>\n",
              "    </tr>\n",
              "    <tr>\n",
              "      <th>1</th>\n",
              "      <td>False</td>\n",
              "      <td>False</td>\n",
              "    </tr>\n",
              "    <tr>\n",
              "      <th>2</th>\n",
              "      <td>False</td>\n",
              "      <td>False</td>\n",
              "    </tr>\n",
              "    <tr>\n",
              "      <th>3</th>\n",
              "      <td>False</td>\n",
              "      <td>False</td>\n",
              "    </tr>\n",
              "    <tr>\n",
              "      <th>4</th>\n",
              "      <td>False</td>\n",
              "      <td>False</td>\n",
              "    </tr>\n",
              "    <tr>\n",
              "      <th>...</th>\n",
              "      <td>...</td>\n",
              "      <td>...</td>\n",
              "    </tr>\n",
              "    <tr>\n",
              "      <th>1995</th>\n",
              "      <td>False</td>\n",
              "      <td>False</td>\n",
              "    </tr>\n",
              "    <tr>\n",
              "      <th>1996</th>\n",
              "      <td>False</td>\n",
              "      <td>False</td>\n",
              "    </tr>\n",
              "    <tr>\n",
              "      <th>1997</th>\n",
              "      <td>False</td>\n",
              "      <td>False</td>\n",
              "    </tr>\n",
              "    <tr>\n",
              "      <th>1998</th>\n",
              "      <td>False</td>\n",
              "      <td>False</td>\n",
              "    </tr>\n",
              "    <tr>\n",
              "      <th>1999</th>\n",
              "      <td>False</td>\n",
              "      <td>False</td>\n",
              "    </tr>\n",
              "  </tbody>\n",
              "</table>\n",
              "<p>2000 rows × 2 columns</p>\n",
              "</div>"
            ],
            "text/plain": [
              "      label  review\n",
              "0     False   False\n",
              "1     False   False\n",
              "2     False   False\n",
              "3     False   False\n",
              "4     False   False\n",
              "...     ...     ...\n",
              "1995  False   False\n",
              "1996  False   False\n",
              "1997  False   False\n",
              "1998  False   False\n",
              "1999  False   False\n",
              "\n",
              "[2000 rows x 2 columns]"
            ]
          },
          "metadata": {
            "tags": []
          },
          "execution_count": 187
        }
      ]
    },
    {
      "cell_type": "code",
      "metadata": {
        "id": "UUlAq8CaWv3f",
        "colab_type": "code",
        "outputId": "0376f3e7-c6cb-4990-f4fe-9a97b8ad4eb9",
        "colab": {
          "base_uri": "https://localhost:8080/",
          "height": 70
        }
      },
      "source": [
        "#Check the count of rows that are having missing values\n",
        "dff.isnull().sum()\n",
        "#This says there are 35 instances where review column is not having any data "
      ],
      "execution_count": 0,
      "outputs": [
        {
          "output_type": "execute_result",
          "data": {
            "text/plain": [
              "label      0\n",
              "review    35\n",
              "dtype: int64"
            ]
          },
          "metadata": {
            "tags": []
          },
          "execution_count": 188
        }
      ]
    },
    {
      "cell_type": "code",
      "metadata": {
        "id": "8XlZU-RCXByK",
        "colab_type": "code",
        "colab": {}
      },
      "source": [
        "#How do we handle these?\n",
        "#We remove the null values\n",
        "#inplace+true means we are removing the null values rows permanently\n",
        "dff.dropna(inplace=True)"
      ],
      "execution_count": 0,
      "outputs": []
    },
    {
      "cell_type": "code",
      "metadata": {
        "id": "Zcb_0c42Xdkk",
        "colab_type": "code",
        "outputId": "7a5406ef-5add-4951-e012-6b4a9781bc9a",
        "colab": {
          "base_uri": "https://localhost:8080/",
          "height": 34
        }
      },
      "source": [
        "#Now let us chek the length of the dataframe.\n",
        "#The length should be less than theinitial because\n",
        "#We removed the null values\n",
        "len(dff)\n",
        "#The new length is 2000-35=1965"
      ],
      "execution_count": 0,
      "outputs": [
        {
          "output_type": "execute_result",
          "data": {
            "text/plain": [
              "1965"
            ]
          },
          "metadata": {
            "tags": []
          },
          "execution_count": 190
        }
      ]
    },
    {
      "cell_type": "code",
      "metadata": {
        "id": "3RBpXvhOXpGh",
        "colab_type": "code",
        "outputId": "6fbb47c5-cf1f-431d-99c6-88f70db82cc9",
        "colab": {
          "base_uri": "https://localhost:8080/",
          "height": 70
        }
      },
      "source": [
        "#Now let us check if there are any null values after performing null vaues removal\n",
        "#this is just a double check\n",
        "dff.isnull().sum()"
      ],
      "execution_count": 0,
      "outputs": [
        {
          "output_type": "execute_result",
          "data": {
            "text/plain": [
              "label     0\n",
              "review    0\n",
              "dtype: int64"
            ]
          },
          "metadata": {
            "tags": []
          },
          "execution_count": 191
        }
      ]
    },
    {
      "cell_type": "code",
      "metadata": {
        "id": "YYXIxnaAe8lZ",
        "colab_type": "code",
        "colab": {}
      },
      "source": [
        "#Little explaination\n",
        "mystring='hello'\n",
        "#here we are storing an empty space in the empty variable\n",
        "empty=' '\n",
        "#here we are storing multiple empty spaces in the empty2 variable\n",
        "empty2='        '"
      ],
      "execution_count": 0,
      "outputs": []
    },
    {
      "cell_type": "code",
      "metadata": {
        "id": "-cpLzN8IfAzB",
        "colab_type": "code",
        "outputId": "c3107360-b93c-45c6-ee52-1b5e4131793a",
        "colab": {
          "base_uri": "https://localhost:8080/",
          "height": 34
        }
      },
      "source": [
        "mystring"
      ],
      "execution_count": 0,
      "outputs": [
        {
          "output_type": "execute_result",
          "data": {
            "text/plain": [
              "'hello'"
            ]
          },
          "metadata": {
            "tags": []
          },
          "execution_count": 193
        }
      ]
    },
    {
      "cell_type": "code",
      "metadata": {
        "id": "IFybTTsWfBec",
        "colab_type": "code",
        "outputId": "c713c2e4-afb5-4da2-e4dc-51d8d4d6f9df",
        "colab": {
          "base_uri": "https://localhost:8080/",
          "height": 34
        }
      },
      "source": [
        "empty"
      ],
      "execution_count": 0,
      "outputs": [
        {
          "output_type": "execute_result",
          "data": {
            "text/plain": [
              "' '"
            ]
          },
          "metadata": {
            "tags": []
          },
          "execution_count": 194
        }
      ]
    },
    {
      "cell_type": "code",
      "metadata": {
        "id": "7SZfCZlPgfkx",
        "colab_type": "code",
        "outputId": "e84902c3-4ed3-4c38-ec8e-2a1975249046",
        "colab": {
          "base_uri": "https://localhost:8080/",
          "height": 34
        }
      },
      "source": [
        "empty2"
      ],
      "execution_count": 0,
      "outputs": [
        {
          "output_type": "execute_result",
          "data": {
            "text/plain": [
              "'        '"
            ]
          },
          "metadata": {
            "tags": []
          },
          "execution_count": 199
        }
      ]
    },
    {
      "cell_type": "code",
      "metadata": {
        "id": "mL6NpFyMfBpC",
        "colab_type": "code",
        "outputId": "0475e9db-4a61-4d7b-9108-b11c13230209",
        "colab": {
          "base_uri": "https://localhost:8080/",
          "height": 34
        }
      },
      "source": [
        "#We have an inbuilt method to check if a particular string is containing a white space or not\n",
        "mystring.isspace() "
      ],
      "execution_count": 0,
      "outputs": [
        {
          "output_type": "execute_result",
          "data": {
            "text/plain": [
              "False"
            ]
          },
          "metadata": {
            "tags": []
          },
          "execution_count": 195
        }
      ]
    },
    {
      "cell_type": "code",
      "metadata": {
        "id": "kRSAwOsVfBxi",
        "colab_type": "code",
        "outputId": "9276904d-d059-4fd4-b3bc-21676773d3bf",
        "colab": {
          "base_uri": "https://localhost:8080/",
          "height": 34
        }
      },
      "source": [
        "#Now we will check if the empty variable which is having a whitespace in it is containing a whote space or not\n",
        "empty.isspace()"
      ],
      "execution_count": 0,
      "outputs": [
        {
          "output_type": "execute_result",
          "data": {
            "text/plain": [
              "True"
            ]
          },
          "metadata": {
            "tags": []
          },
          "execution_count": 196
        }
      ]
    },
    {
      "cell_type": "code",
      "metadata": {
        "id": "8iBjI4lpgk_v",
        "colab_type": "code",
        "outputId": "565a4090-0bcd-49a1-fd8d-be4efd7f692c",
        "colab": {
          "base_uri": "https://localhost:8080/",
          "height": 34
        }
      },
      "source": [
        "#Now we will check for the presence of multiple whitespaces in a particular variable\n",
        "empty2.isspace()"
      ],
      "execution_count": 0,
      "outputs": [
        {
          "output_type": "execute_result",
          "data": {
            "text/plain": [
              "True"
            ]
          },
          "metadata": {
            "tags": []
          },
          "execution_count": 200
        }
      ]
    },
    {
      "cell_type": "code",
      "metadata": {
        "id": "U_DBEKdbX88d",
        "colab_type": "code",
        "colab": {}
      },
      "source": [
        "#There will be blanks in certain reviews\n",
        "#Such data is also unnecessary for us\n",
        "#Now we are going to remove blanks which are present as reviews\n",
        "\n",
        "blanks=[0]\n",
        "\n",
        "\n",
        "#Iterate through our dataframe\n",
        "#Check if the review is just a white space\n",
        "#This wil return index,label and review values of the tuple\n",
        "#We will perform the following\n",
        "      #if there is a whitespace in the review\n",
        "      #We are putting its corresponding index into the blanks list i.e. appending blanks list\n",
        "#After the end of operation blanks list should contain all the indexes of reviews taht is containing whitespaces alone and not \n",
        "for i,lb,rv in dff.itertuples():\n",
        "  if rv.isspace():\n",
        "    blanks.append(i)"
      ],
      "execution_count": 0,
      "outputs": []
    },
    {
      "cell_type": "code",
      "metadata": {
        "id": "XdDq_EZbibKf",
        "colab_type": "code",
        "outputId": "47723096-16e5-4b57-82f4-27a020f0ef27",
        "colab": {
          "base_uri": "https://localhost:8080/",
          "height": 514
        }
      },
      "source": [
        "#Let us check the blanks list\n",
        "#It should contain all the indexes of reviews that is containing whitespaces alone\n",
        "blanks"
      ],
      "execution_count": 0,
      "outputs": [
        {
          "output_type": "execute_result",
          "data": {
            "text/plain": [
              "[0,\n",
              " 57,\n",
              " 71,\n",
              " 147,\n",
              " 151,\n",
              " 283,\n",
              " 307,\n",
              " 313,\n",
              " 323,\n",
              " 343,\n",
              " 351,\n",
              " 427,\n",
              " 501,\n",
              " 633,\n",
              " 675,\n",
              " 815,\n",
              " 851,\n",
              " 977,\n",
              " 1079,\n",
              " 1299,\n",
              " 1455,\n",
              " 1493,\n",
              " 1525,\n",
              " 1531,\n",
              " 1763,\n",
              " 1851,\n",
              " 1905,\n",
              " 1993]"
            ]
          },
          "metadata": {
            "tags": []
          },
          "execution_count": 203
        }
      ]
    },
    {
      "cell_type": "code",
      "metadata": {
        "id": "TzZ8uQqCiuUo",
        "colab_type": "code",
        "colab": {}
      },
      "source": [
        "#Now we shoould drop the indexes present in the blanks from the dataframe dff\n",
        "#Here inplace=true means we are mentioning that the changes being made to dataframe are permanent\n",
        "#The change that we are making here is removing the reviews taht are containing blanks\n",
        "#Here we should not use dropna.... Instead we should use just drop\n",
        "dff.drop(blanks,inplace=True)"
      ],
      "execution_count": 0,
      "outputs": []
    },
    {
      "cell_type": "code",
      "metadata": {
        "id": "0wxQDrfajP81",
        "colab_type": "code",
        "outputId": "e9d7d41c-797e-411c-e1ae-1b3773b729bc",
        "colab": {
          "base_uri": "https://localhost:8080/",
          "height": 34
        }
      },
      "source": [
        "#Now check the length of dff\n",
        "#It should be 1965-(number of reviews taht are containing blanks)\n",
        "len(dff)"
      ],
      "execution_count": 0,
      "outputs": [
        {
          "output_type": "execute_result",
          "data": {
            "text/plain": [
              "1937"
            ]
          },
          "metadata": {
            "tags": []
          },
          "execution_count": 207
        }
      ]
    },
    {
      "cell_type": "code",
      "metadata": {
        "id": "flLiUeuKl3LU",
        "colab_type": "code",
        "colab": {}
      },
      "source": [
        "#Create train test split\n",
        "from sklearn.model_selection import train_test_split"
      ],
      "execution_count": 0,
      "outputs": []
    },
    {
      "cell_type": "code",
      "metadata": {
        "id": "tb8_cdh-nedB",
        "colab_type": "code",
        "colab": {}
      },
      "source": [
        "#Create the X. X should contain the review\n",
        "X=dff['review']"
      ],
      "execution_count": 0,
      "outputs": []
    },
    {
      "cell_type": "code",
      "metadata": {
        "id": "mLTMPGLMnk7M",
        "colab_type": "code",
        "colab": {}
      },
      "source": [
        "#Create the y. y should contain the label\n",
        "y=dff['label']"
      ],
      "execution_count": 0,
      "outputs": []
    },
    {
      "cell_type": "code",
      "metadata": {
        "id": "ouHYpmW1nk4E",
        "colab_type": "code",
        "outputId": "8369da71-6d2c-4709-ab28-da6362f385b7",
        "colab": {
          "base_uri": "https://localhost:8080/",
          "height": 230
        }
      },
      "source": [
        "#View the X\n",
        "X"
      ],
      "execution_count": 0,
      "outputs": [
        {
          "output_type": "execute_result",
          "data": {
            "text/plain": [
              "1       some talented actresses are blessed with a dem...\n",
              "2       this has been an extraordinary year for austra...\n",
              "3       according to hollywood movies made in last few...\n",
              "4       my first press screening of 1998 and already i...\n",
              "5       to put it bluntly , ed wood would have been pr...\n",
              "                              ...                        \n",
              "1995    i like movies with albert brooks , and i reall...\n",
              "1996    it might surprise some to know that joel and e...\n",
              "1997    the verdict : spine-chilling drama from horror...\n",
              "1998    i want to correct what i wrote in a former ret...\n",
              "1999    a couple of months ago , when i first download...\n",
              "Name: review, Length: 1937, dtype: object"
            ]
          },
          "metadata": {
            "tags": []
          },
          "execution_count": 212
        }
      ]
    },
    {
      "cell_type": "code",
      "metadata": {
        "id": "H5SAppydnk1K",
        "colab_type": "code",
        "outputId": "17f8f14d-6296-447c-a282-5fcff8a35350",
        "colab": {
          "base_uri": "https://localhost:8080/",
          "height": 230
        }
      },
      "source": [
        "#View the y\n",
        "y"
      ],
      "execution_count": 0,
      "outputs": [
        {
          "output_type": "execute_result",
          "data": {
            "text/plain": [
              "1       neg\n",
              "2       pos\n",
              "3       pos\n",
              "4       neg\n",
              "5       neg\n",
              "       ... \n",
              "1995    pos\n",
              "1996    pos\n",
              "1997    pos\n",
              "1998    pos\n",
              "1999    pos\n",
              "Name: label, Length: 1937, dtype: object"
            ]
          },
          "metadata": {
            "tags": []
          },
          "execution_count": 213
        }
      ]
    },
    {
      "cell_type": "code",
      "metadata": {
        "id": "owk7qMbZnAPz",
        "colab_type": "code",
        "colab": {}
      },
      "source": [
        "X_train,X_test,y_train,y_test=train_test_split(X,y,test_size=0.3,random_state=42)"
      ],
      "execution_count": 0,
      "outputs": []
    },
    {
      "cell_type": "code",
      "metadata": {
        "id": "a69rvMiHoKQE",
        "colab_type": "code",
        "colab": {}
      },
      "source": [
        "#We are using Linear Support vector Classifier\n",
        "from sklearn.pipeline import Pipeline\n",
        "from sklearn.feature_extraction.text import TfidfVectorizer\n",
        "from sklearn.svm import SVC"
      ],
      "execution_count": 0,
      "outputs": []
    },
    {
      "cell_type": "code",
      "metadata": {
        "id": "XSSqavk3oQO4",
        "colab_type": "code",
        "colab": {}
      },
      "source": [
        "#We are creating the pipeline that peformstfidfvectorization and also fit the data to support vector algorithm\n",
        "#Here the name of pipeline is text_clf1\n",
        "#We created an instance of tfidfvectorizer..... named as tfidf\n",
        "#We created an instance of Suport vector classifier ......named as classifier\n",
        "text_clf1=Pipeline([('tfid',TfidfVectorizer()),\n",
        "                    ('classifier',SVC())])"
      ],
      "execution_count": 0,
      "outputs": []
    },
    {
      "cell_type": "code",
      "metadata": {
        "id": "7jAzFyYIpdzN",
        "colab_type": "code",
        "outputId": "7d82922e-1a4c-4c15-c853-d17dcb8f8d2b",
        "colab": {
          "base_uri": "https://localhost:8080/",
          "height": 390
        }
      },
      "source": [
        "#We are fitting the data into the pipeline\n",
        "text_clf1.fit(X_train,y_train)"
      ],
      "execution_count": 0,
      "outputs": [
        {
          "output_type": "execute_result",
          "data": {
            "text/plain": [
              "Pipeline(memory=None,\n",
              "         steps=[('tfid',\n",
              "                 TfidfVectorizer(analyzer='word', binary=False,\n",
              "                                 decode_error='strict',\n",
              "                                 dtype=<class 'numpy.float64'>,\n",
              "                                 encoding='utf-8', input='content',\n",
              "                                 lowercase=True, max_df=1.0, max_features=None,\n",
              "                                 min_df=1, ngram_range=(1, 1), norm='l2',\n",
              "                                 preprocessor=None, smooth_idf=True,\n",
              "                                 stop_words=None, strip_accents=None,\n",
              "                                 sublinear_tf=False,\n",
              "                                 token_pattern='(?u)\\\\b\\\\w\\\\w+\\\\b',\n",
              "                                 tokenizer=None, use_idf=True,\n",
              "                                 vocabulary=None)),\n",
              "                ('classifier',\n",
              "                 SVC(C=1.0, break_ties=False, cache_size=200, class_weight=None,\n",
              "                     coef0=0.0, decision_function_shape='ovr', degree=3,\n",
              "                     gamma='scale', kernel='rbf', max_iter=-1,\n",
              "                     probability=False, random_state=None, shrinking=True,\n",
              "                     tol=0.001, verbose=False))],\n",
              "         verbose=False)"
            ]
          },
          "metadata": {
            "tags": []
          },
          "execution_count": 219
        }
      ]
    },
    {
      "cell_type": "code",
      "metadata": {
        "id": "KBoknj28pslj",
        "colab_type": "code",
        "colab": {}
      },
      "source": [
        "#Let us predict the values\n",
        "predictions1=text_clf1.predict(X_test)"
      ],
      "execution_count": 0,
      "outputs": []
    },
    {
      "cell_type": "code",
      "metadata": {
        "id": "5jhq1-NFp0De",
        "colab_type": "code",
        "colab": {}
      },
      "source": [
        "#Let us evaluate the metrics\n",
        "from sklearn.metrics import confusion_matrix,classification_report,accuracy_score"
      ],
      "execution_count": 0,
      "outputs": []
    },
    {
      "cell_type": "code",
      "metadata": {
        "id": "PmJHZsH-p-oy",
        "colab_type": "code",
        "colab": {}
      },
      "source": [
        "cm2=confusion_matrix(y_test,predictions1)"
      ],
      "execution_count": 0,
      "outputs": []
    },
    {
      "cell_type": "code",
      "metadata": {
        "id": "3k56nnouqG7L",
        "colab_type": "code",
        "outputId": "996e7077-9f85-443e-86fb-ce6a768ae829",
        "colab": {
          "base_uri": "https://localhost:8080/",
          "height": 52
        }
      },
      "source": [
        "print(cm2)"
      ],
      "execution_count": 0,
      "outputs": [
        {
          "output_type": "stream",
          "text": [
            "[[248  63]\n",
            " [ 31 240]]\n"
          ],
          "name": "stdout"
        }
      ]
    },
    {
      "cell_type": "code",
      "metadata": {
        "id": "-rVmirWjqIb5",
        "colab_type": "code",
        "colab": {}
      },
      "source": [
        "dd12=pd.DataFrame(cm2,index=['pos','neg'],columns=['pos','neg'])"
      ],
      "execution_count": 0,
      "outputs": []
    },
    {
      "cell_type": "code",
      "metadata": {
        "id": "XlfEgg3XqSRo",
        "colab_type": "code",
        "outputId": "1a8f7cc9-79f1-4fe0-ff94-6dddff4a6c85",
        "colab": {
          "base_uri": "https://localhost:8080/",
          "height": 107
        }
      },
      "source": [
        "dd12"
      ],
      "execution_count": 0,
      "outputs": [
        {
          "output_type": "execute_result",
          "data": {
            "text/html": [
              "<div>\n",
              "<style scoped>\n",
              "    .dataframe tbody tr th:only-of-type {\n",
              "        vertical-align: middle;\n",
              "    }\n",
              "\n",
              "    .dataframe tbody tr th {\n",
              "        vertical-align: top;\n",
              "    }\n",
              "\n",
              "    .dataframe thead th {\n",
              "        text-align: right;\n",
              "    }\n",
              "</style>\n",
              "<table border=\"1\" class=\"dataframe\">\n",
              "  <thead>\n",
              "    <tr style=\"text-align: right;\">\n",
              "      <th></th>\n",
              "      <th>pos</th>\n",
              "      <th>neg</th>\n",
              "    </tr>\n",
              "  </thead>\n",
              "  <tbody>\n",
              "    <tr>\n",
              "      <th>pos</th>\n",
              "      <td>248</td>\n",
              "      <td>63</td>\n",
              "    </tr>\n",
              "    <tr>\n",
              "      <th>neg</th>\n",
              "      <td>31</td>\n",
              "      <td>240</td>\n",
              "    </tr>\n",
              "  </tbody>\n",
              "</table>\n",
              "</div>"
            ],
            "text/plain": [
              "     pos  neg\n",
              "pos  248   63\n",
              "neg   31  240"
            ]
          },
          "metadata": {
            "tags": []
          },
          "execution_count": 230
        }
      ]
    },
    {
      "cell_type": "code",
      "metadata": {
        "id": "x6GqY-Zkq0hU",
        "colab_type": "code",
        "outputId": "acd166b4-2cd2-4813-8771-052ece1f00c0",
        "colab": {
          "base_uri": "https://localhost:8080/",
          "height": 176
        }
      },
      "source": [
        "#View the classification_report\n",
        "print(metrics.classification_report(y_test,predictions1))"
      ],
      "execution_count": 0,
      "outputs": [
        {
          "output_type": "stream",
          "text": [
            "              precision    recall  f1-score   support\n",
            "\n",
            "         neg       0.89      0.80      0.84       311\n",
            "         pos       0.79      0.89      0.84       271\n",
            "\n",
            "    accuracy                           0.84       582\n",
            "   macro avg       0.84      0.84      0.84       582\n",
            "weighted avg       0.84      0.84      0.84       582\n",
            "\n"
          ],
          "name": "stdout"
        }
      ]
    },
    {
      "cell_type": "code",
      "metadata": {
        "id": "gK1C8BWmrBkm",
        "colab_type": "code",
        "outputId": "57094a58-87c0-4268-efcf-4a146faa5631",
        "colab": {
          "base_uri": "https://localhost:8080/",
          "height": 34
        }
      },
      "source": [
        "#View the Accuracy Score\n",
        "print(metrics.accuracy_score(y_test,predictions1))"
      ],
      "execution_count": 0,
      "outputs": [
        {
          "output_type": "stream",
          "text": [
            "0.8384879725085911\n"
          ],
          "name": "stdout"
        }
      ]
    },
    {
      "cell_type": "code",
      "metadata": {
        "id": "Au2iFKZrrJkq",
        "colab_type": "code",
        "colab": {}
      },
      "source": [
        ""
      ],
      "execution_count": 0,
      "outputs": []
    }
  ]
}